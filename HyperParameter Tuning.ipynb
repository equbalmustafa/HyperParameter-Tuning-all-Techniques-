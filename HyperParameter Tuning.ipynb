{
 "cells": [
  {
   "cell_type": "code",
   "execution_count": 3,
   "id": "1c8f3545",
   "metadata": {},
   "outputs": [],
   "source": [
    "import warnings\n",
    "warnings.filterwarnings(\"ignore\")"
   ]
  },
  {
   "cell_type": "code",
   "execution_count": 4,
   "id": "1ea04aeb",
   "metadata": {},
   "outputs": [],
   "source": [
    "import pandas as pd\n",
    "import numpy as np"
   ]
  },
  {
   "cell_type": "code",
   "execution_count": 5,
   "id": "3a122251",
   "metadata": {},
   "outputs": [],
   "source": [
    "df=pd.read_csv(\"diabetes.csv\")"
   ]
  },
  {
   "cell_type": "code",
   "execution_count": 6,
   "id": "680cf4aa",
   "metadata": {},
   "outputs": [
    {
     "data": {
      "text/html": [
       "<div><div id=c1e82ab5-8ba5-4bfa-86e8-9fd9d0633221 style=\"display:none; background-color:#9D6CFF; color:white; width:200px; height:30px; padding-left:5px; border-radius:4px; flex-direction:row; justify-content:space-around; align-items:center;\" onmouseover=\"this.style.backgroundColor='#BA9BF8'\" onmouseout=\"this.style.backgroundColor='#9D6CFF'\" onclick=\"window.commands?.execute('create-mitosheet-from-dataframe-output');\">See Full Dataframe in Mito</div> <script> if (window.commands.hasCommand('create-mitosheet-from-dataframe-output')) document.getElementById('c1e82ab5-8ba5-4bfa-86e8-9fd9d0633221').style.display = 'flex' </script> <table border=\"1\" class=\"dataframe\">\n",
       "  <thead>\n",
       "    <tr style=\"text-align: right;\">\n",
       "      <th></th>\n",
       "      <th>Pregnancies</th>\n",
       "      <th>Glucose</th>\n",
       "      <th>BloodPressure</th>\n",
       "      <th>SkinThickness</th>\n",
       "      <th>Insulin</th>\n",
       "      <th>BMI</th>\n",
       "      <th>DiabetesPedigreeFunction</th>\n",
       "      <th>Age</th>\n",
       "      <th>Outcome</th>\n",
       "    </tr>\n",
       "  </thead>\n",
       "  <tbody>\n",
       "    <tr>\n",
       "      <th>0</th>\n",
       "      <td>6</td>\n",
       "      <td>148</td>\n",
       "      <td>72</td>\n",
       "      <td>35</td>\n",
       "      <td>0</td>\n",
       "      <td>33.6</td>\n",
       "      <td>0.627</td>\n",
       "      <td>50</td>\n",
       "      <td>1</td>\n",
       "    </tr>\n",
       "    <tr>\n",
       "      <th>1</th>\n",
       "      <td>1</td>\n",
       "      <td>85</td>\n",
       "      <td>66</td>\n",
       "      <td>29</td>\n",
       "      <td>0</td>\n",
       "      <td>26.6</td>\n",
       "      <td>0.351</td>\n",
       "      <td>31</td>\n",
       "      <td>0</td>\n",
       "    </tr>\n",
       "    <tr>\n",
       "      <th>2</th>\n",
       "      <td>8</td>\n",
       "      <td>183</td>\n",
       "      <td>64</td>\n",
       "      <td>0</td>\n",
       "      <td>0</td>\n",
       "      <td>23.3</td>\n",
       "      <td>0.672</td>\n",
       "      <td>32</td>\n",
       "      <td>1</td>\n",
       "    </tr>\n",
       "    <tr>\n",
       "      <th>3</th>\n",
       "      <td>1</td>\n",
       "      <td>89</td>\n",
       "      <td>66</td>\n",
       "      <td>23</td>\n",
       "      <td>94</td>\n",
       "      <td>28.1</td>\n",
       "      <td>0.167</td>\n",
       "      <td>21</td>\n",
       "      <td>0</td>\n",
       "    </tr>\n",
       "    <tr>\n",
       "      <th>4</th>\n",
       "      <td>0</td>\n",
       "      <td>137</td>\n",
       "      <td>40</td>\n",
       "      <td>35</td>\n",
       "      <td>168</td>\n",
       "      <td>43.1</td>\n",
       "      <td>2.288</td>\n",
       "      <td>33</td>\n",
       "      <td>1</td>\n",
       "    </tr>\n",
       "  </tbody>\n",
       "</table></div>"
      ],
      "text/plain": [
       "   Pregnancies  Glucose  BloodPressure  SkinThickness  Insulin   BMI  \\\n",
       "0            6      148             72             35        0  33.6   \n",
       "1            1       85             66             29        0  26.6   \n",
       "2            8      183             64              0        0  23.3   \n",
       "3            1       89             66             23       94  28.1   \n",
       "4            0      137             40             35      168  43.1   \n",
       "\n",
       "   DiabetesPedigreeFunction  Age  Outcome  \n",
       "0                     0.627   50        1  \n",
       "1                     0.351   31        0  \n",
       "2                     0.672   32        1  \n",
       "3                     0.167   21        0  \n",
       "4                     2.288   33        1  "
      ]
     },
     "execution_count": 6,
     "metadata": {},
     "output_type": "execute_result"
    }
   ],
   "source": [
    "df.head()"
   ]
  },
  {
   "cell_type": "code",
   "execution_count": 7,
   "id": "c1534833",
   "metadata": {},
   "outputs": [
    {
     "data": {
      "text/plain": [
       "(768, 9)"
      ]
     },
     "execution_count": 7,
     "metadata": {},
     "output_type": "execute_result"
    }
   ],
   "source": [
    "df.shape"
   ]
  },
  {
   "cell_type": "code",
   "execution_count": 8,
   "id": "d1a4b44c",
   "metadata": {},
   "outputs": [
    {
     "name": "stdout",
     "output_type": "stream",
     "text": [
      "<class 'pandas.core.frame.DataFrame'>\n",
      "RangeIndex: 768 entries, 0 to 767\n",
      "Data columns (total 9 columns):\n",
      " #   Column                    Non-Null Count  Dtype  \n",
      "---  ------                    --------------  -----  \n",
      " 0   Pregnancies               768 non-null    int64  \n",
      " 1   Glucose                   768 non-null    int64  \n",
      " 2   BloodPressure             768 non-null    int64  \n",
      " 3   SkinThickness             768 non-null    int64  \n",
      " 4   Insulin                   768 non-null    int64  \n",
      " 5   BMI                       768 non-null    float64\n",
      " 6   DiabetesPedigreeFunction  768 non-null    float64\n",
      " 7   Age                       768 non-null    int64  \n",
      " 8   Outcome                   768 non-null    int64  \n",
      "dtypes: float64(2), int64(7)\n",
      "memory usage: 54.1 KB\n"
     ]
    }
   ],
   "source": [
    "df.info()"
   ]
  },
  {
   "cell_type": "code",
   "execution_count": 9,
   "id": "96b7dc0f",
   "metadata": {},
   "outputs": [
    {
     "data": {
      "text/plain": [
       "Pregnancies                 0\n",
       "Glucose                     0\n",
       "BloodPressure               0\n",
       "SkinThickness               0\n",
       "Insulin                     0\n",
       "BMI                         0\n",
       "DiabetesPedigreeFunction    0\n",
       "Age                         0\n",
       "Outcome                     0\n",
       "dtype: int64"
      ]
     },
     "execution_count": 9,
     "metadata": {},
     "output_type": "execute_result"
    }
   ],
   "source": [
    "df.isnull().sum()"
   ]
  },
  {
   "cell_type": "code",
   "execution_count": 10,
   "id": "772cc6dd",
   "metadata": {},
   "outputs": [
    {
     "data": {
      "text/plain": [
       "Index(['Pregnancies', 'Glucose', 'BloodPressure', 'SkinThickness', 'Insulin',\n",
       "       'BMI', 'DiabetesPedigreeFunction', 'Age', 'Outcome'],\n",
       "      dtype='object')"
      ]
     },
     "execution_count": 10,
     "metadata": {},
     "output_type": "execute_result"
    }
   ],
   "source": [
    "df.columns"
   ]
  },
  {
   "cell_type": "code",
   "execution_count": 13,
   "id": "1a731a1d",
   "metadata": {},
   "outputs": [
    {
     "data": {
      "text/plain": [
       "RangeIndex(start=0, stop=768, step=1)"
      ]
     },
     "execution_count": 13,
     "metadata": {},
     "output_type": "execute_result"
    }
   ],
   "source": [
    "df.index"
   ]
  },
  {
   "cell_type": "code",
   "execution_count": 7,
   "id": "68b60db9",
   "metadata": {},
   "outputs": [],
   "source": [
    "df[\"Glucose\"]=np.where(df[\"Glucose\"]==0, df[\"Glucose\"].median(), df[\"Glucose\"])\n",
    "df[\"Insulin\"]=np.where(df[\"Insulin\"]==0, df[\"Insulin\"].median(), df[\"Insulin\"])\n",
    "df[\"SkinThickness\"]=np.where(df[\"SkinThickness\"]==0, df[\"SkinThickness\"].median(), df[\"SkinThickness\"])"
   ]
  },
  {
   "cell_type": "code",
   "execution_count": 56,
   "id": "f78fd8de",
   "metadata": {},
   "outputs": [
    {
     "data": {
      "text/html": [
       "<div><div id=150c4cdc-ae35-445e-9db2-664d85753eb4 style=\"display:none; background-color:#9D6CFF; color:white; width:200px; height:30px; padding-left:5px; border-radius:4px; flex-direction:row; justify-content:space-around; align-items:center;\" onmouseover=\"this.style.backgroundColor='#BA9BF8'\" onmouseout=\"this.style.backgroundColor='#9D6CFF'\" onclick=\"window.commands?.execute('create-mitosheet-from-dataframe-output');\">See Full Dataframe in Mito</div> <script> if (window.commands.hasCommand('create-mitosheet-from-dataframe-output')) document.getElementById('150c4cdc-ae35-445e-9db2-664d85753eb4').style.display = 'flex' </script> <table border=\"1\" class=\"dataframe\">\n",
       "  <thead>\n",
       "    <tr style=\"text-align: right;\">\n",
       "      <th></th>\n",
       "      <th>Pregnancies</th>\n",
       "      <th>Glucose</th>\n",
       "      <th>BloodPressure</th>\n",
       "      <th>SkinThickness</th>\n",
       "      <th>Insulin</th>\n",
       "      <th>BMI</th>\n",
       "      <th>DiabetesPedigreeFunction</th>\n",
       "      <th>Age</th>\n",
       "      <th>Outcome</th>\n",
       "    </tr>\n",
       "  </thead>\n",
       "  <tbody>\n",
       "    <tr>\n",
       "      <th>0</th>\n",
       "      <td>6</td>\n",
       "      <td>148.0</td>\n",
       "      <td>72</td>\n",
       "      <td>35.0</td>\n",
       "      <td>30.5</td>\n",
       "      <td>33.6</td>\n",
       "      <td>0.627</td>\n",
       "      <td>50</td>\n",
       "      <td>1</td>\n",
       "    </tr>\n",
       "    <tr>\n",
       "      <th>1</th>\n",
       "      <td>1</td>\n",
       "      <td>85.0</td>\n",
       "      <td>66</td>\n",
       "      <td>29.0</td>\n",
       "      <td>30.5</td>\n",
       "      <td>26.6</td>\n",
       "      <td>0.351</td>\n",
       "      <td>31</td>\n",
       "      <td>0</td>\n",
       "    </tr>\n",
       "    <tr>\n",
       "      <th>2</th>\n",
       "      <td>8</td>\n",
       "      <td>183.0</td>\n",
       "      <td>64</td>\n",
       "      <td>23.0</td>\n",
       "      <td>30.5</td>\n",
       "      <td>23.3</td>\n",
       "      <td>0.672</td>\n",
       "      <td>32</td>\n",
       "      <td>1</td>\n",
       "    </tr>\n",
       "    <tr>\n",
       "      <th>3</th>\n",
       "      <td>1</td>\n",
       "      <td>89.0</td>\n",
       "      <td>66</td>\n",
       "      <td>23.0</td>\n",
       "      <td>94.0</td>\n",
       "      <td>28.1</td>\n",
       "      <td>0.167</td>\n",
       "      <td>21</td>\n",
       "      <td>0</td>\n",
       "    </tr>\n",
       "    <tr>\n",
       "      <th>4</th>\n",
       "      <td>0</td>\n",
       "      <td>137.0</td>\n",
       "      <td>40</td>\n",
       "      <td>35.0</td>\n",
       "      <td>168.0</td>\n",
       "      <td>43.1</td>\n",
       "      <td>2.288</td>\n",
       "      <td>33</td>\n",
       "      <td>1</td>\n",
       "    </tr>\n",
       "  </tbody>\n",
       "</table></div>"
      ],
      "text/plain": [
       "   Pregnancies  Glucose  BloodPressure  SkinThickness  Insulin   BMI  \\\n",
       "0            6    148.0             72           35.0     30.5  33.6   \n",
       "1            1     85.0             66           29.0     30.5  26.6   \n",
       "2            8    183.0             64           23.0     30.5  23.3   \n",
       "3            1     89.0             66           23.0     94.0  28.1   \n",
       "4            0    137.0             40           35.0    168.0  43.1   \n",
       "\n",
       "   DiabetesPedigreeFunction  Age  Outcome  \n",
       "0                     0.627   50        1  \n",
       "1                     0.351   31        0  \n",
       "2                     0.672   32        1  \n",
       "3                     0.167   21        0  \n",
       "4                     2.288   33        1  "
      ]
     },
     "execution_count": 56,
     "metadata": {},
     "output_type": "execute_result"
    }
   ],
   "source": [
    "df.head()"
   ]
  },
  {
   "cell_type": "code",
   "execution_count": 8,
   "id": "4511cb42",
   "metadata": {},
   "outputs": [],
   "source": [
    "X=df.drop(\"Outcome\", axis=1)\n",
    "y=df['Outcome']"
   ]
  },
  {
   "cell_type": "code",
   "execution_count": 9,
   "id": "8f1fe502",
   "metadata": {},
   "outputs": [
    {
     "data": {
      "text/html": [
       "<div><div id=fe37469e-81ab-4595-8504-c6ceab4b66c7 style=\"display:none; background-color:#9D6CFF; color:white; width:200px; height:30px; padding-left:5px; border-radius:4px; flex-direction:row; justify-content:space-around; align-items:center;\" onmouseover=\"this.style.backgroundColor='#BA9BF8'\" onmouseout=\"this.style.backgroundColor='#9D6CFF'\" onclick=\"window.commands?.execute('create-mitosheet-from-dataframe-output');\">See Full Dataframe in Mito</div> <script> if (window.commands.hasCommand('create-mitosheet-from-dataframe-output')) document.getElementById('fe37469e-81ab-4595-8504-c6ceab4b66c7').style.display = 'flex' </script> <table border=\"1\" class=\"dataframe\">\n",
       "  <thead>\n",
       "    <tr style=\"text-align: right;\">\n",
       "      <th></th>\n",
       "      <th>Pregnancies</th>\n",
       "      <th>Glucose</th>\n",
       "      <th>BloodPressure</th>\n",
       "      <th>SkinThickness</th>\n",
       "      <th>Insulin</th>\n",
       "      <th>BMI</th>\n",
       "      <th>DiabetesPedigreeFunction</th>\n",
       "      <th>Age</th>\n",
       "    </tr>\n",
       "  </thead>\n",
       "  <tbody>\n",
       "    <tr>\n",
       "      <th>0</th>\n",
       "      <td>6</td>\n",
       "      <td>148.0</td>\n",
       "      <td>72</td>\n",
       "      <td>35.0</td>\n",
       "      <td>30.5</td>\n",
       "      <td>33.6</td>\n",
       "      <td>0.627</td>\n",
       "      <td>50</td>\n",
       "    </tr>\n",
       "    <tr>\n",
       "      <th>1</th>\n",
       "      <td>1</td>\n",
       "      <td>85.0</td>\n",
       "      <td>66</td>\n",
       "      <td>29.0</td>\n",
       "      <td>30.5</td>\n",
       "      <td>26.6</td>\n",
       "      <td>0.351</td>\n",
       "      <td>31</td>\n",
       "    </tr>\n",
       "    <tr>\n",
       "      <th>2</th>\n",
       "      <td>8</td>\n",
       "      <td>183.0</td>\n",
       "      <td>64</td>\n",
       "      <td>23.0</td>\n",
       "      <td>30.5</td>\n",
       "      <td>23.3</td>\n",
       "      <td>0.672</td>\n",
       "      <td>32</td>\n",
       "    </tr>\n",
       "    <tr>\n",
       "      <th>3</th>\n",
       "      <td>1</td>\n",
       "      <td>89.0</td>\n",
       "      <td>66</td>\n",
       "      <td>23.0</td>\n",
       "      <td>94.0</td>\n",
       "      <td>28.1</td>\n",
       "      <td>0.167</td>\n",
       "      <td>21</td>\n",
       "    </tr>\n",
       "    <tr>\n",
       "      <th>4</th>\n",
       "      <td>0</td>\n",
       "      <td>137.0</td>\n",
       "      <td>40</td>\n",
       "      <td>35.0</td>\n",
       "      <td>168.0</td>\n",
       "      <td>43.1</td>\n",
       "      <td>2.288</td>\n",
       "      <td>33</td>\n",
       "    </tr>\n",
       "    <tr>\n",
       "      <th>5</th>\n",
       "      <td>5</td>\n",
       "      <td>116.0</td>\n",
       "      <td>74</td>\n",
       "      <td>23.0</td>\n",
       "      <td>30.5</td>\n",
       "      <td>25.6</td>\n",
       "      <td>0.201</td>\n",
       "      <td>30</td>\n",
       "    </tr>\n",
       "    <tr>\n",
       "      <th>6</th>\n",
       "      <td>3</td>\n",
       "      <td>78.0</td>\n",
       "      <td>50</td>\n",
       "      <td>32.0</td>\n",
       "      <td>88.0</td>\n",
       "      <td>31.0</td>\n",
       "      <td>0.248</td>\n",
       "      <td>26</td>\n",
       "    </tr>\n",
       "    <tr>\n",
       "      <th>7</th>\n",
       "      <td>10</td>\n",
       "      <td>115.0</td>\n",
       "      <td>0</td>\n",
       "      <td>23.0</td>\n",
       "      <td>30.5</td>\n",
       "      <td>35.3</td>\n",
       "      <td>0.134</td>\n",
       "      <td>29</td>\n",
       "    </tr>\n",
       "    <tr>\n",
       "      <th>8</th>\n",
       "      <td>2</td>\n",
       "      <td>197.0</td>\n",
       "      <td>70</td>\n",
       "      <td>45.0</td>\n",
       "      <td>543.0</td>\n",
       "      <td>30.5</td>\n",
       "      <td>0.158</td>\n",
       "      <td>53</td>\n",
       "    </tr>\n",
       "    <tr>\n",
       "      <th>9</th>\n",
       "      <td>8</td>\n",
       "      <td>125.0</td>\n",
       "      <td>96</td>\n",
       "      <td>23.0</td>\n",
       "      <td>30.5</td>\n",
       "      <td>0.0</td>\n",
       "      <td>0.232</td>\n",
       "      <td>54</td>\n",
       "    </tr>\n",
       "    <tr>\n",
       "      <th>10</th>\n",
       "      <td>4</td>\n",
       "      <td>110.0</td>\n",
       "      <td>92</td>\n",
       "      <td>23.0</td>\n",
       "      <td>30.5</td>\n",
       "      <td>37.6</td>\n",
       "      <td>0.191</td>\n",
       "      <td>30</td>\n",
       "    </tr>\n",
       "    <tr>\n",
       "      <th>11</th>\n",
       "      <td>10</td>\n",
       "      <td>168.0</td>\n",
       "      <td>74</td>\n",
       "      <td>23.0</td>\n",
       "      <td>30.5</td>\n",
       "      <td>38.0</td>\n",
       "      <td>0.537</td>\n",
       "      <td>34</td>\n",
       "    </tr>\n",
       "    <tr>\n",
       "      <th>12</th>\n",
       "      <td>10</td>\n",
       "      <td>139.0</td>\n",
       "      <td>80</td>\n",
       "      <td>23.0</td>\n",
       "      <td>30.5</td>\n",
       "      <td>27.1</td>\n",
       "      <td>1.441</td>\n",
       "      <td>57</td>\n",
       "    </tr>\n",
       "    <tr>\n",
       "      <th>13</th>\n",
       "      <td>1</td>\n",
       "      <td>189.0</td>\n",
       "      <td>60</td>\n",
       "      <td>23.0</td>\n",
       "      <td>846.0</td>\n",
       "      <td>30.1</td>\n",
       "      <td>0.398</td>\n",
       "      <td>59</td>\n",
       "    </tr>\n",
       "    <tr>\n",
       "      <th>14</th>\n",
       "      <td>5</td>\n",
       "      <td>166.0</td>\n",
       "      <td>72</td>\n",
       "      <td>19.0</td>\n",
       "      <td>175.0</td>\n",
       "      <td>25.8</td>\n",
       "      <td>0.587</td>\n",
       "      <td>51</td>\n",
       "    </tr>\n",
       "    <tr>\n",
       "      <th>15</th>\n",
       "      <td>7</td>\n",
       "      <td>100.0</td>\n",
       "      <td>0</td>\n",
       "      <td>23.0</td>\n",
       "      <td>30.5</td>\n",
       "      <td>30.0</td>\n",
       "      <td>0.484</td>\n",
       "      <td>32</td>\n",
       "    </tr>\n",
       "    <tr>\n",
       "      <th>16</th>\n",
       "      <td>0</td>\n",
       "      <td>118.0</td>\n",
       "      <td>84</td>\n",
       "      <td>47.0</td>\n",
       "      <td>230.0</td>\n",
       "      <td>45.8</td>\n",
       "      <td>0.551</td>\n",
       "      <td>31</td>\n",
       "    </tr>\n",
       "    <tr>\n",
       "      <th>17</th>\n",
       "      <td>7</td>\n",
       "      <td>107.0</td>\n",
       "      <td>74</td>\n",
       "      <td>23.0</td>\n",
       "      <td>30.5</td>\n",
       "      <td>29.6</td>\n",
       "      <td>0.254</td>\n",
       "      <td>31</td>\n",
       "    </tr>\n",
       "    <tr>\n",
       "      <th>18</th>\n",
       "      <td>1</td>\n",
       "      <td>103.0</td>\n",
       "      <td>30</td>\n",
       "      <td>38.0</td>\n",
       "      <td>83.0</td>\n",
       "      <td>43.3</td>\n",
       "      <td>0.183</td>\n",
       "      <td>33</td>\n",
       "    </tr>\n",
       "    <tr>\n",
       "      <th>19</th>\n",
       "      <td>1</td>\n",
       "      <td>115.0</td>\n",
       "      <td>70</td>\n",
       "      <td>30.0</td>\n",
       "      <td>96.0</td>\n",
       "      <td>34.6</td>\n",
       "      <td>0.529</td>\n",
       "      <td>32</td>\n",
       "    </tr>\n",
       "    <tr>\n",
       "      <th>20</th>\n",
       "      <td>3</td>\n",
       "      <td>126.0</td>\n",
       "      <td>88</td>\n",
       "      <td>41.0</td>\n",
       "      <td>235.0</td>\n",
       "      <td>39.3</td>\n",
       "      <td>0.704</td>\n",
       "      <td>27</td>\n",
       "    </tr>\n",
       "    <tr>\n",
       "      <th>21</th>\n",
       "      <td>8</td>\n",
       "      <td>99.0</td>\n",
       "      <td>84</td>\n",
       "      <td>23.0</td>\n",
       "      <td>30.5</td>\n",
       "      <td>35.4</td>\n",
       "      <td>0.388</td>\n",
       "      <td>50</td>\n",
       "    </tr>\n",
       "    <tr>\n",
       "      <th>22</th>\n",
       "      <td>7</td>\n",
       "      <td>196.0</td>\n",
       "      <td>90</td>\n",
       "      <td>23.0</td>\n",
       "      <td>30.5</td>\n",
       "      <td>39.8</td>\n",
       "      <td>0.451</td>\n",
       "      <td>41</td>\n",
       "    </tr>\n",
       "    <tr>\n",
       "      <th>23</th>\n",
       "      <td>9</td>\n",
       "      <td>119.0</td>\n",
       "      <td>80</td>\n",
       "      <td>35.0</td>\n",
       "      <td>30.5</td>\n",
       "      <td>29.0</td>\n",
       "      <td>0.263</td>\n",
       "      <td>29</td>\n",
       "    </tr>\n",
       "    <tr>\n",
       "      <th>24</th>\n",
       "      <td>11</td>\n",
       "      <td>143.0</td>\n",
       "      <td>94</td>\n",
       "      <td>33.0</td>\n",
       "      <td>146.0</td>\n",
       "      <td>36.6</td>\n",
       "      <td>0.254</td>\n",
       "      <td>51</td>\n",
       "    </tr>\n",
       "    <tr>\n",
       "      <th>25</th>\n",
       "      <td>10</td>\n",
       "      <td>125.0</td>\n",
       "      <td>70</td>\n",
       "      <td>26.0</td>\n",
       "      <td>115.0</td>\n",
       "      <td>31.1</td>\n",
       "      <td>0.205</td>\n",
       "      <td>41</td>\n",
       "    </tr>\n",
       "    <tr>\n",
       "      <th>26</th>\n",
       "      <td>7</td>\n",
       "      <td>147.0</td>\n",
       "      <td>76</td>\n",
       "      <td>23.0</td>\n",
       "      <td>30.5</td>\n",
       "      <td>39.4</td>\n",
       "      <td>0.257</td>\n",
       "      <td>43</td>\n",
       "    </tr>\n",
       "    <tr>\n",
       "      <th>27</th>\n",
       "      <td>1</td>\n",
       "      <td>97.0</td>\n",
       "      <td>66</td>\n",
       "      <td>15.0</td>\n",
       "      <td>140.0</td>\n",
       "      <td>23.2</td>\n",
       "      <td>0.487</td>\n",
       "      <td>22</td>\n",
       "    </tr>\n",
       "    <tr>\n",
       "      <th>28</th>\n",
       "      <td>13</td>\n",
       "      <td>145.0</td>\n",
       "      <td>82</td>\n",
       "      <td>19.0</td>\n",
       "      <td>110.0</td>\n",
       "      <td>22.2</td>\n",
       "      <td>0.245</td>\n",
       "      <td>57</td>\n",
       "    </tr>\n",
       "    <tr>\n",
       "      <th>29</th>\n",
       "      <td>5</td>\n",
       "      <td>117.0</td>\n",
       "      <td>92</td>\n",
       "      <td>23.0</td>\n",
       "      <td>30.5</td>\n",
       "      <td>34.1</td>\n",
       "      <td>0.337</td>\n",
       "      <td>38</td>\n",
       "    </tr>\n",
       "    <tr>\n",
       "      <th>...</th>\n",
       "      <td>...</td>\n",
       "      <td>...</td>\n",
       "      <td>...</td>\n",
       "      <td>...</td>\n",
       "      <td>...</td>\n",
       "      <td>...</td>\n",
       "      <td>...</td>\n",
       "      <td>...</td>\n",
       "    </tr>\n",
       "    <tr>\n",
       "      <th>738</th>\n",
       "      <td>2</td>\n",
       "      <td>99.0</td>\n",
       "      <td>60</td>\n",
       "      <td>17.0</td>\n",
       "      <td>160.0</td>\n",
       "      <td>36.6</td>\n",
       "      <td>0.453</td>\n",
       "      <td>21</td>\n",
       "    </tr>\n",
       "    <tr>\n",
       "      <th>739</th>\n",
       "      <td>1</td>\n",
       "      <td>102.0</td>\n",
       "      <td>74</td>\n",
       "      <td>23.0</td>\n",
       "      <td>30.5</td>\n",
       "      <td>39.5</td>\n",
       "      <td>0.293</td>\n",
       "      <td>42</td>\n",
       "    </tr>\n",
       "    <tr>\n",
       "      <th>740</th>\n",
       "      <td>11</td>\n",
       "      <td>120.0</td>\n",
       "      <td>80</td>\n",
       "      <td>37.0</td>\n",
       "      <td>150.0</td>\n",
       "      <td>42.3</td>\n",
       "      <td>0.785</td>\n",
       "      <td>48</td>\n",
       "    </tr>\n",
       "    <tr>\n",
       "      <th>741</th>\n",
       "      <td>3</td>\n",
       "      <td>102.0</td>\n",
       "      <td>44</td>\n",
       "      <td>20.0</td>\n",
       "      <td>94.0</td>\n",
       "      <td>30.8</td>\n",
       "      <td>0.400</td>\n",
       "      <td>26</td>\n",
       "    </tr>\n",
       "    <tr>\n",
       "      <th>742</th>\n",
       "      <td>1</td>\n",
       "      <td>109.0</td>\n",
       "      <td>58</td>\n",
       "      <td>18.0</td>\n",
       "      <td>116.0</td>\n",
       "      <td>28.5</td>\n",
       "      <td>0.219</td>\n",
       "      <td>22</td>\n",
       "    </tr>\n",
       "    <tr>\n",
       "      <th>743</th>\n",
       "      <td>9</td>\n",
       "      <td>140.0</td>\n",
       "      <td>94</td>\n",
       "      <td>23.0</td>\n",
       "      <td>30.5</td>\n",
       "      <td>32.7</td>\n",
       "      <td>0.734</td>\n",
       "      <td>45</td>\n",
       "    </tr>\n",
       "    <tr>\n",
       "      <th>744</th>\n",
       "      <td>13</td>\n",
       "      <td>153.0</td>\n",
       "      <td>88</td>\n",
       "      <td>37.0</td>\n",
       "      <td>140.0</td>\n",
       "      <td>40.6</td>\n",
       "      <td>1.174</td>\n",
       "      <td>39</td>\n",
       "    </tr>\n",
       "    <tr>\n",
       "      <th>745</th>\n",
       "      <td>12</td>\n",
       "      <td>100.0</td>\n",
       "      <td>84</td>\n",
       "      <td>33.0</td>\n",
       "      <td>105.0</td>\n",
       "      <td>30.0</td>\n",
       "      <td>0.488</td>\n",
       "      <td>46</td>\n",
       "    </tr>\n",
       "    <tr>\n",
       "      <th>746</th>\n",
       "      <td>1</td>\n",
       "      <td>147.0</td>\n",
       "      <td>94</td>\n",
       "      <td>41.0</td>\n",
       "      <td>30.5</td>\n",
       "      <td>49.3</td>\n",
       "      <td>0.358</td>\n",
       "      <td>27</td>\n",
       "    </tr>\n",
       "    <tr>\n",
       "      <th>747</th>\n",
       "      <td>1</td>\n",
       "      <td>81.0</td>\n",
       "      <td>74</td>\n",
       "      <td>41.0</td>\n",
       "      <td>57.0</td>\n",
       "      <td>46.3</td>\n",
       "      <td>1.096</td>\n",
       "      <td>32</td>\n",
       "    </tr>\n",
       "    <tr>\n",
       "      <th>748</th>\n",
       "      <td>3</td>\n",
       "      <td>187.0</td>\n",
       "      <td>70</td>\n",
       "      <td>22.0</td>\n",
       "      <td>200.0</td>\n",
       "      <td>36.4</td>\n",
       "      <td>0.408</td>\n",
       "      <td>36</td>\n",
       "    </tr>\n",
       "    <tr>\n",
       "      <th>749</th>\n",
       "      <td>6</td>\n",
       "      <td>162.0</td>\n",
       "      <td>62</td>\n",
       "      <td>23.0</td>\n",
       "      <td>30.5</td>\n",
       "      <td>24.3</td>\n",
       "      <td>0.178</td>\n",
       "      <td>50</td>\n",
       "    </tr>\n",
       "    <tr>\n",
       "      <th>750</th>\n",
       "      <td>4</td>\n",
       "      <td>136.0</td>\n",
       "      <td>70</td>\n",
       "      <td>23.0</td>\n",
       "      <td>30.5</td>\n",
       "      <td>31.2</td>\n",
       "      <td>1.182</td>\n",
       "      <td>22</td>\n",
       "    </tr>\n",
       "    <tr>\n",
       "      <th>751</th>\n",
       "      <td>1</td>\n",
       "      <td>121.0</td>\n",
       "      <td>78</td>\n",
       "      <td>39.0</td>\n",
       "      <td>74.0</td>\n",
       "      <td>39.0</td>\n",
       "      <td>0.261</td>\n",
       "      <td>28</td>\n",
       "    </tr>\n",
       "    <tr>\n",
       "      <th>752</th>\n",
       "      <td>3</td>\n",
       "      <td>108.0</td>\n",
       "      <td>62</td>\n",
       "      <td>24.0</td>\n",
       "      <td>30.5</td>\n",
       "      <td>26.0</td>\n",
       "      <td>0.223</td>\n",
       "      <td>25</td>\n",
       "    </tr>\n",
       "    <tr>\n",
       "      <th>753</th>\n",
       "      <td>0</td>\n",
       "      <td>181.0</td>\n",
       "      <td>88</td>\n",
       "      <td>44.0</td>\n",
       "      <td>510.0</td>\n",
       "      <td>43.3</td>\n",
       "      <td>0.222</td>\n",
       "      <td>26</td>\n",
       "    </tr>\n",
       "    <tr>\n",
       "      <th>754</th>\n",
       "      <td>8</td>\n",
       "      <td>154.0</td>\n",
       "      <td>78</td>\n",
       "      <td>32.0</td>\n",
       "      <td>30.5</td>\n",
       "      <td>32.4</td>\n",
       "      <td>0.443</td>\n",
       "      <td>45</td>\n",
       "    </tr>\n",
       "    <tr>\n",
       "      <th>755</th>\n",
       "      <td>1</td>\n",
       "      <td>128.0</td>\n",
       "      <td>88</td>\n",
       "      <td>39.0</td>\n",
       "      <td>110.0</td>\n",
       "      <td>36.5</td>\n",
       "      <td>1.057</td>\n",
       "      <td>37</td>\n",
       "    </tr>\n",
       "    <tr>\n",
       "      <th>756</th>\n",
       "      <td>7</td>\n",
       "      <td>137.0</td>\n",
       "      <td>90</td>\n",
       "      <td>41.0</td>\n",
       "      <td>30.5</td>\n",
       "      <td>32.0</td>\n",
       "      <td>0.391</td>\n",
       "      <td>39</td>\n",
       "    </tr>\n",
       "    <tr>\n",
       "      <th>757</th>\n",
       "      <td>0</td>\n",
       "      <td>123.0</td>\n",
       "      <td>72</td>\n",
       "      <td>23.0</td>\n",
       "      <td>30.5</td>\n",
       "      <td>36.3</td>\n",
       "      <td>0.258</td>\n",
       "      <td>52</td>\n",
       "    </tr>\n",
       "    <tr>\n",
       "      <th>758</th>\n",
       "      <td>1</td>\n",
       "      <td>106.0</td>\n",
       "      <td>76</td>\n",
       "      <td>23.0</td>\n",
       "      <td>30.5</td>\n",
       "      <td>37.5</td>\n",
       "      <td>0.197</td>\n",
       "      <td>26</td>\n",
       "    </tr>\n",
       "    <tr>\n",
       "      <th>759</th>\n",
       "      <td>6</td>\n",
       "      <td>190.0</td>\n",
       "      <td>92</td>\n",
       "      <td>23.0</td>\n",
       "      <td>30.5</td>\n",
       "      <td>35.5</td>\n",
       "      <td>0.278</td>\n",
       "      <td>66</td>\n",
       "    </tr>\n",
       "    <tr>\n",
       "      <th>760</th>\n",
       "      <td>2</td>\n",
       "      <td>88.0</td>\n",
       "      <td>58</td>\n",
       "      <td>26.0</td>\n",
       "      <td>16.0</td>\n",
       "      <td>28.4</td>\n",
       "      <td>0.766</td>\n",
       "      <td>22</td>\n",
       "    </tr>\n",
       "    <tr>\n",
       "      <th>761</th>\n",
       "      <td>9</td>\n",
       "      <td>170.0</td>\n",
       "      <td>74</td>\n",
       "      <td>31.0</td>\n",
       "      <td>30.5</td>\n",
       "      <td>44.0</td>\n",
       "      <td>0.403</td>\n",
       "      <td>43</td>\n",
       "    </tr>\n",
       "    <tr>\n",
       "      <th>762</th>\n",
       "      <td>9</td>\n",
       "      <td>89.0</td>\n",
       "      <td>62</td>\n",
       "      <td>23.0</td>\n",
       "      <td>30.5</td>\n",
       "      <td>22.5</td>\n",
       "      <td>0.142</td>\n",
       "      <td>33</td>\n",
       "    </tr>\n",
       "    <tr>\n",
       "      <th>763</th>\n",
       "      <td>10</td>\n",
       "      <td>101.0</td>\n",
       "      <td>76</td>\n",
       "      <td>48.0</td>\n",
       "      <td>180.0</td>\n",
       "      <td>32.9</td>\n",
       "      <td>0.171</td>\n",
       "      <td>63</td>\n",
       "    </tr>\n",
       "    <tr>\n",
       "      <th>764</th>\n",
       "      <td>2</td>\n",
       "      <td>122.0</td>\n",
       "      <td>70</td>\n",
       "      <td>27.0</td>\n",
       "      <td>30.5</td>\n",
       "      <td>36.8</td>\n",
       "      <td>0.340</td>\n",
       "      <td>27</td>\n",
       "    </tr>\n",
       "    <tr>\n",
       "      <th>765</th>\n",
       "      <td>5</td>\n",
       "      <td>121.0</td>\n",
       "      <td>72</td>\n",
       "      <td>23.0</td>\n",
       "      <td>112.0</td>\n",
       "      <td>26.2</td>\n",
       "      <td>0.245</td>\n",
       "      <td>30</td>\n",
       "    </tr>\n",
       "    <tr>\n",
       "      <th>766</th>\n",
       "      <td>1</td>\n",
       "      <td>126.0</td>\n",
       "      <td>60</td>\n",
       "      <td>23.0</td>\n",
       "      <td>30.5</td>\n",
       "      <td>30.1</td>\n",
       "      <td>0.349</td>\n",
       "      <td>47</td>\n",
       "    </tr>\n",
       "    <tr>\n",
       "      <th>767</th>\n",
       "      <td>1</td>\n",
       "      <td>93.0</td>\n",
       "      <td>70</td>\n",
       "      <td>31.0</td>\n",
       "      <td>30.5</td>\n",
       "      <td>30.4</td>\n",
       "      <td>0.315</td>\n",
       "      <td>23</td>\n",
       "    </tr>\n",
       "  </tbody>\n",
       "</table></div>"
      ],
      "text/plain": [
       "     Pregnancies  Glucose  BloodPressure  SkinThickness  Insulin   BMI  \\\n",
       "0              6    148.0             72           35.0     30.5  33.6   \n",
       "1              1     85.0             66           29.0     30.5  26.6   \n",
       "2              8    183.0             64           23.0     30.5  23.3   \n",
       "3              1     89.0             66           23.0     94.0  28.1   \n",
       "4              0    137.0             40           35.0    168.0  43.1   \n",
       "..           ...      ...            ...            ...      ...   ...   \n",
       "763           10    101.0             76           48.0    180.0  32.9   \n",
       "764            2    122.0             70           27.0     30.5  36.8   \n",
       "765            5    121.0             72           23.0    112.0  26.2   \n",
       "766            1    126.0             60           23.0     30.5  30.1   \n",
       "767            1     93.0             70           31.0     30.5  30.4   \n",
       "\n",
       "     DiabetesPedigreeFunction  Age  \n",
       "0                       0.627   50  \n",
       "1                       0.351   31  \n",
       "2                       0.672   32  \n",
       "3                       0.167   21  \n",
       "4                       2.288   33  \n",
       "..                        ...  ...  \n",
       "763                     0.171   63  \n",
       "764                     0.340   27  \n",
       "765                     0.245   30  \n",
       "766                     0.349   47  \n",
       "767                     0.315   23  \n",
       "\n",
       "[768 rows x 8 columns]"
      ]
     },
     "execution_count": 9,
     "metadata": {},
     "output_type": "execute_result"
    }
   ],
   "source": [
    "pd.DataFrame(X, columns=df.columns[:-1])"
   ]
  },
  {
   "cell_type": "code",
   "execution_count": 59,
   "id": "a3cbd737",
   "metadata": {},
   "outputs": [
    {
     "data": {
      "text/plain": [
       "0    500\n",
       "1    268\n",
       "Name: Outcome, dtype: int64"
      ]
     },
     "execution_count": 59,
     "metadata": {},
     "output_type": "execute_result"
    }
   ],
   "source": [
    "y.value_counts()"
   ]
  },
  {
   "cell_type": "code",
   "execution_count": 10,
   "id": "4d85ab19",
   "metadata": {},
   "outputs": [],
   "source": [
    "from sklearn.model_selection import train_test_split"
   ]
  },
  {
   "cell_type": "code",
   "execution_count": 11,
   "id": "27f8346c",
   "metadata": {},
   "outputs": [],
   "source": [
    "X_train, X_test, y_train, y_test=train_test_split(X, y, test_size=0.2, random_state=0)"
   ]
  },
  {
   "cell_type": "code",
   "execution_count": 12,
   "id": "7056fa8b",
   "metadata": {},
   "outputs": [],
   "source": [
    "from sklearn.ensemble import RandomForestClassifier"
   ]
  },
  {
   "cell_type": "code",
   "execution_count": 73,
   "id": "8a8494d6",
   "metadata": {},
   "outputs": [],
   "source": [
    "rf_classifier=RandomForestClassifier(n_estimators=50).fit(X_train, y_train)"
   ]
  },
  {
   "cell_type": "code",
   "execution_count": 74,
   "id": "7a696561",
   "metadata": {},
   "outputs": [],
   "source": [
    "prediction=rf_classifier.predict(X_test)"
   ]
  },
  {
   "cell_type": "code",
   "execution_count": 13,
   "id": "b47d851a",
   "metadata": {},
   "outputs": [],
   "source": [
    "from sklearn.metrics import confusion_matrix, accuracy_score, classification_report"
   ]
  },
  {
   "cell_type": "code",
   "execution_count": 76,
   "id": "0f706ac4",
   "metadata": {},
   "outputs": [
    {
     "name": "stdout",
     "output_type": "stream",
     "text": [
      "[[92 15]\n",
      " [15 32]]\n",
      "0.8051948051948052\n",
      "              precision    recall  f1-score   support\n",
      "\n",
      "           0       0.86      0.86      0.86       107\n",
      "           1       0.68      0.68      0.68        47\n",
      "\n",
      "    accuracy                           0.81       154\n",
      "   macro avg       0.77      0.77      0.77       154\n",
      "weighted avg       0.81      0.81      0.81       154\n",
      "\n"
     ]
    }
   ],
   "source": [
    "print(confusion_matrix(y_test, prediction))\n",
    "print(accuracy_score(y_test, prediction))\n",
    "print(classification_report(y_test, prediction))"
   ]
  },
  {
   "cell_type": "markdown",
   "id": "09c01a05",
   "metadata": {},
   "source": [
    "##### Manual Tuning of Hyperparameter"
   ]
  },
  {
   "cell_type": "code",
   "execution_count": 91,
   "id": "1bf951b9",
   "metadata": {},
   "outputs": [],
   "source": [
    "model1=RandomForestClassifier(n_estimators=300, \n",
    "                              criterion=\"entropy\", \n",
    "                              max_features=\"sqrt\", \n",
    "                              min_samples_leaf=10, \n",
    "                              random_state=100).fit(X_train, y_train)"
   ]
  },
  {
   "cell_type": "code",
   "execution_count": 92,
   "id": "3aecc49a",
   "metadata": {},
   "outputs": [],
   "source": [
    "prediction1=model1.predict(X_test)"
   ]
  },
  {
   "cell_type": "code",
   "execution_count": 93,
   "id": "37b83c7b",
   "metadata": {},
   "outputs": [
    {
     "name": "stdout",
     "output_type": "stream",
     "text": [
      "[[97 10]\n",
      " [17 30]]\n",
      "0.8246753246753247\n",
      "              precision    recall  f1-score   support\n",
      "\n",
      "           0       0.85      0.91      0.88       107\n",
      "           1       0.75      0.64      0.69        47\n",
      "\n",
      "    accuracy                           0.82       154\n",
      "   macro avg       0.80      0.77      0.78       154\n",
      "weighted avg       0.82      0.82      0.82       154\n",
      "\n"
     ]
    }
   ],
   "source": [
    "print(confusion_matrix(y_test, prediction1))\n",
    "print(accuracy_score(y_test, prediction1))\n",
    "print(classification_report(y_test, prediction1))"
   ]
  },
  {
   "cell_type": "markdown",
   "id": "d23e2b7a",
   "metadata": {},
   "source": [
    "#### RandomizedSearchCV "
   ]
  },
  {
   "cell_type": "code",
   "execution_count": 82,
   "id": "4ebfde6b",
   "metadata": {},
   "outputs": [],
   "source": [
    "from sklearn.model_selection import RandomizedSearchCV"
   ]
  },
  {
   "cell_type": "code",
   "execution_count": 107,
   "id": "72e99009",
   "metadata": {},
   "outputs": [],
   "source": [
    "n_estimators=[int(x) for x in np.linspace(start=50, stop=2000, num=10)]\n",
    "max_features=[\"auto\", \"sqrt\", \"log2\"]\n",
    "max_depth=[int(x) for x in np.linspace(10, 1000, 10)]\n",
    "min_samples_split=[2,5,10,14]\n",
    "min_samples_leaf=[1,2,4,6,8]\n",
    "criterion=[\"gini\", \"entropy\"]"
   ]
  },
  {
   "cell_type": "code",
   "execution_count": 108,
   "id": "8876e85a",
   "metadata": {},
   "outputs": [],
   "source": [
    "random_grid={\"n_estimators\":n_estimators,\n",
    "            \"max_features\":max_features,\n",
    "            \"max_depth\":max_depth,\n",
    "            \"min_samples_split\":min_samples_split,\n",
    "            \"min_samples_leaf\":min_samples_leaf,\n",
    "            \"criterion\":criterion}"
   ]
  },
  {
   "cell_type": "code",
   "execution_count": 109,
   "id": "31d18e47",
   "metadata": {},
   "outputs": [
    {
     "name": "stdout",
     "output_type": "stream",
     "text": [
      "{'n_estimators': [50, 266, 483, 700, 916, 1133, 1350, 1566, 1783, 2000], 'max_features': ['auto', 'sqrt', 'log2'], 'max_depth': [10, 120, 230, 340, 450, 560, 670, 780, 890, 1000], 'min_samples_split': [2, 5, 10, 14], 'min_samples_leaf': [1, 2, 4, 6, 8], 'criterion': ['gini', 'entropy']}\n"
     ]
    }
   ],
   "source": [
    "print(random_grid)"
   ]
  },
  {
   "cell_type": "code",
   "execution_count": 110,
   "id": "6b0efa29",
   "metadata": {},
   "outputs": [],
   "source": [
    "model2=RandomForestClassifier()"
   ]
  },
  {
   "cell_type": "code",
   "execution_count": 111,
   "id": "62420c06",
   "metadata": {},
   "outputs": [],
   "source": [
    "model2_randomcv=RandomizedSearchCV(estimator=model2, param_distributions=random_grid, \n",
    "                                   n_iter=100, cv=5, verbose=2, random_state=100, n_jobs=-1)"
   ]
  },
  {
   "cell_type": "code",
   "execution_count": 112,
   "id": "c465b902",
   "metadata": {},
   "outputs": [
    {
     "name": "stdout",
     "output_type": "stream",
     "text": [
      "Fitting 5 folds for each of 100 candidates, totalling 500 fits\n"
     ]
    },
    {
     "data": {
      "text/plain": [
       "RandomizedSearchCV(cv=5, estimator=RandomForestClassifier(), n_iter=100,\n",
       "                   n_jobs=-1,\n",
       "                   param_distributions={'criterion': ['gini', 'entropy'],\n",
       "                                        'max_depth': [10, 120, 230, 340, 450,\n",
       "                                                      560, 670, 780, 890,\n",
       "                                                      1000],\n",
       "                                        'max_features': ['auto', 'sqrt',\n",
       "                                                         'log2'],\n",
       "                                        'min_samples_leaf': [1, 2, 4, 6, 8],\n",
       "                                        'min_samples_split': [2, 5, 10, 14],\n",
       "                                        'n_estimators': [50, 266, 483, 700, 916,\n",
       "                                                         1133, 1350, 1566, 1783,\n",
       "                                                         2000]},\n",
       "                   random_state=100, verbose=2)"
      ]
     },
     "execution_count": 112,
     "metadata": {},
     "output_type": "execute_result"
    }
   ],
   "source": [
    "model2_randomcv.fit(X_train, y_train)"
   ]
  },
  {
   "cell_type": "code",
   "execution_count": 113,
   "id": "0214f17b",
   "metadata": {},
   "outputs": [
    {
     "data": {
      "text/plain": [
       "{'n_estimators': 50,\n",
       " 'min_samples_split': 10,\n",
       " 'min_samples_leaf': 6,\n",
       " 'max_features': 'auto',\n",
       " 'max_depth': 230,\n",
       " 'criterion': 'gini'}"
      ]
     },
     "execution_count": 113,
     "metadata": {},
     "output_type": "execute_result"
    }
   ],
   "source": [
    "model2_randomcv.best_params_"
   ]
  },
  {
   "cell_type": "code",
   "execution_count": 127,
   "id": "5bd2582d",
   "metadata": {},
   "outputs": [],
   "source": [
    "best_random_model2=model2_randomcv.best_estimator_"
   ]
  },
  {
   "cell_type": "code",
   "execution_count": 128,
   "id": "28ac47e6",
   "metadata": {},
   "outputs": [
    {
     "data": {
      "text/plain": [
       "RandomForestClassifier(max_depth=230, min_samples_leaf=6, min_samples_split=10,\n",
       "                       n_estimators=50)"
      ]
     },
     "execution_count": 128,
     "metadata": {},
     "output_type": "execute_result"
    }
   ],
   "source": [
    "best_random_model2"
   ]
  },
  {
   "cell_type": "code",
   "execution_count": 129,
   "id": "8f861325",
   "metadata": {},
   "outputs": [],
   "source": [
    "prediction2=best_random_model2.predict(X_test)"
   ]
  },
  {
   "cell_type": "code",
   "execution_count": 130,
   "id": "ef68f71c",
   "metadata": {},
   "outputs": [
    {
     "name": "stdout",
     "output_type": "stream",
     "text": [
      "[[98  9]\n",
      " [15 32]]\n",
      "0.8441558441558441\n",
      "              precision    recall  f1-score   support\n",
      "\n",
      "           0       0.87      0.92      0.89       107\n",
      "           1       0.78      0.68      0.73        47\n",
      "\n",
      "    accuracy                           0.84       154\n",
      "   macro avg       0.82      0.80      0.81       154\n",
      "weighted avg       0.84      0.84      0.84       154\n",
      "\n"
     ]
    }
   ],
   "source": [
    "print(confusion_matrix(y_test, prediction2))\n",
    "print(accuracy_score(y_test, prediction2))\n",
    "print(classification_report(y_test, prediction2))"
   ]
  },
  {
   "cell_type": "markdown",
   "id": "3d4d119c",
   "metadata": {},
   "source": [
    "#### GridSeachCV"
   ]
  },
  {
   "cell_type": "code",
   "execution_count": 118,
   "id": "a2768cee",
   "metadata": {},
   "outputs": [],
   "source": [
    "from sklearn.model_selection import GridSearchCV"
   ]
  },
  {
   "cell_type": "code",
   "execution_count": 119,
   "id": "f78d6c05",
   "metadata": {},
   "outputs": [],
   "source": [
    "model3=RandomForestClassifier()"
   ]
  },
  {
   "cell_type": "code",
   "execution_count": 131,
   "id": "a3ad3658",
   "metadata": {},
   "outputs": [],
   "source": [
    "param_grid={\n",
    "    'criterion': [model2_randomcv.best_params_['criterion']],\n",
    "    'max_depth': [model2_randomcv.best_params_['max_depth']],\n",
    "    'max_features': [model2_randomcv.best_params_['max_features']],\n",
    "    'min_samples_leaf': [model2_randomcv.best_params_['min_samples_leaf'], \n",
    "                         model2_randomcv.best_params_['min_samples_leaf']+2, \n",
    "                         model2_randomcv.best_params_['min_samples_leaf'] + 4],\n",
    "    'min_samples_split': [model2_randomcv.best_params_['min_samples_split'] - 2,\n",
    "                          model2_randomcv.best_params_['min_samples_split'] - 1,\n",
    "                          model2_randomcv.best_params_['min_samples_split'], \n",
    "                          model2_randomcv.best_params_['min_samples_split'] +1,\n",
    "                          model2_randomcv.best_params_['min_samples_split'] + 2],\n",
    "    'n_estimators': [model2_randomcv.best_params_['n_estimators'], model2_randomcv.best_params_['n_estimators'] + 100, \n",
    "                     model2_randomcv.best_params_['n_estimators'] + 200, \n",
    "                     model2_randomcv.best_params_['n_estimators'] + 300, model2_randomcv.best_params_['n_estimators'] + 400]\n",
    "}"
   ]
  },
  {
   "cell_type": "code",
   "execution_count": 132,
   "id": "7162e349",
   "metadata": {},
   "outputs": [],
   "source": [
    "model3_grid_searchcv=GridSearchCV(estimator=model3, param_grid=param_grid, cv=10, n_jobs=-1, verbose=2)"
   ]
  },
  {
   "cell_type": "code",
   "execution_count": 133,
   "id": "b947e5dc",
   "metadata": {},
   "outputs": [
    {
     "name": "stdout",
     "output_type": "stream",
     "text": [
      "Fitting 10 folds for each of 75 candidates, totalling 750 fits\n"
     ]
    },
    {
     "data": {
      "text/plain": [
       "GridSearchCV(cv=10, estimator=RandomForestClassifier(), n_jobs=-1,\n",
       "             param_grid={'criterion': ['gini'], 'max_depth': [230],\n",
       "                         'max_features': ['auto'],\n",
       "                         'min_samples_leaf': [6, 8, 10],\n",
       "                         'min_samples_split': [8, 9, 10, 11, 12],\n",
       "                         'n_estimators': [50, 150, 250, 350, 450]},\n",
       "             verbose=2)"
      ]
     },
     "execution_count": 133,
     "metadata": {},
     "output_type": "execute_result"
    }
   ],
   "source": [
    "model3_grid_searchcv.fit(X_train, y_train)"
   ]
  },
  {
   "cell_type": "code",
   "execution_count": 134,
   "id": "aa6b6325",
   "metadata": {},
   "outputs": [],
   "source": [
    "best_grid_model3=model3_grid_searchcv.best_estimator_"
   ]
  },
  {
   "cell_type": "code",
   "execution_count": 135,
   "id": "c29c646b",
   "metadata": {},
   "outputs": [],
   "source": [
    "prediction3=best_grid_model3.predict(X_test)"
   ]
  },
  {
   "cell_type": "code",
   "execution_count": 136,
   "id": "050da6d1",
   "metadata": {},
   "outputs": [
    {
     "name": "stdout",
     "output_type": "stream",
     "text": [
      "[[98  9]\n",
      " [20 27]]\n",
      "0.8116883116883117\n",
      "              precision    recall  f1-score   support\n",
      "\n",
      "           0       0.83      0.92      0.87       107\n",
      "           1       0.75      0.57      0.65        47\n",
      "\n",
      "    accuracy                           0.81       154\n",
      "   macro avg       0.79      0.75      0.76       154\n",
      "weighted avg       0.81      0.81      0.80       154\n",
      "\n"
     ]
    }
   ],
   "source": [
    "print(confusion_matrix(y_test, prediction3))\n",
    "print(accuracy_score(y_test, prediction3))\n",
    "print(classification_report(y_test, prediction3))"
   ]
  },
  {
   "cell_type": "markdown",
   "id": "07c890f2",
   "metadata": {},
   "source": [
    "##### Automated Hyperparameter Tuning\n",
    "Automated Hyperparameter Tuning can be done by using techniques such as\n",
    "\n",
    "1. Bayesian Optimization\n",
    "2. Gradient Descent\n",
    "3. Evolutionary Algorithms\n",
    "\n",
    "###### Bayesian Optimization\n",
    "Bayesian optimization uses probability to find the minimum of a function. The final aim is to find the input value to a function which can gives us the lowest possible output value.It usually performs better than random,grid and manual search providing better performance in the testing phase and reduced optimization time. In Hyperopt, Bayesian Optimization can be implemented giving 3 three main parameters to the function fmin.\n",
    "\n",
    "1. Objective Function = defines the loss function to minimize.\n",
    "2. Domain Space = defines the range of input values to test (in Bayesian Optimization this space creates a probability      distribution for each of the used Hyperparameters).\n",
    "3. Optimization Algorithm = defines the search algorithm to use to select the best input values to use in each new iteration."
   ]
  },
  {
   "cell_type": "code",
   "execution_count": 14,
   "id": "a671a78c",
   "metadata": {},
   "outputs": [],
   "source": [
    "from hyperopt import hp,fmin,tpe,STATUS_OK,Trials"
   ]
  },
  {
   "cell_type": "code",
   "execution_count": 15,
   "id": "d01b2e75",
   "metadata": {},
   "outputs": [],
   "source": [
    "space = {'criterion': hp.choice('criterion', ['entropy', 'gini']),\n",
    "        'max_depth': hp.quniform('max_depth', 10, 1200, 10),\n",
    "        'max_features': hp.choice('max_features', ['auto', 'sqrt','log2', None]),\n",
    "        'min_samples_leaf': hp.uniform('min_samples_leaf', 0, 0.5),\n",
    "        'min_samples_split' : hp.uniform ('min_samples_split', 0, 1),\n",
    "        'n_estimators' : hp.choice('n_estimators', [10, 50, 300, 750, 1200,1300,1500])\n",
    "    }"
   ]
  },
  {
   "cell_type": "code",
   "execution_count": 16,
   "id": "ce9ba9ce",
   "metadata": {},
   "outputs": [
    {
     "data": {
      "text/plain": [
       "{'criterion': <hyperopt.pyll.base.Apply at 0x20a88e7d0a0>,\n",
       " 'max_depth': <hyperopt.pyll.base.Apply at 0x20a89214130>,\n",
       " 'max_features': <hyperopt.pyll.base.Apply at 0x20a89214250>,\n",
       " 'min_samples_leaf': <hyperopt.pyll.base.Apply at 0x20a89214430>,\n",
       " 'min_samples_split': <hyperopt.pyll.base.Apply at 0x20a89214550>,\n",
       " 'n_estimators': <hyperopt.pyll.base.Apply at 0x20a89214640>}"
      ]
     },
     "execution_count": 16,
     "metadata": {},
     "output_type": "execute_result"
    }
   ],
   "source": [
    "space"
   ]
  },
  {
   "cell_type": "code",
   "execution_count": 17,
   "id": "ea774a27",
   "metadata": {},
   "outputs": [],
   "source": [
    "def objective(space):\n",
    "    model = RandomForestClassifier(criterion = space['criterion'], max_depth = space['max_depth'],\n",
    "                                 max_features = space['max_features'],\n",
    "                                 min_samples_leaf = space['min_samples_leaf'],\n",
    "                                 min_samples_split = space['min_samples_split'],\n",
    "                                 n_estimators = space['n_estimators'], \n",
    "                                 )\n",
    "    \n",
    "    accuracy = cross_val_score(model, X_train, y_train, cv = 5).mean()\n",
    "\n",
    "    # We aim to maximize accuracy, therefore we return it as a negative value\n",
    "    return {'loss': -accuracy, 'status': STATUS_OK }"
   ]
  },
  {
   "cell_type": "code",
   "execution_count": 18,
   "id": "bc79498c",
   "metadata": {},
   "outputs": [
    {
     "name": "stdout",
     "output_type": "stream",
     "text": [
      "  0%|                                                                           | 0/80 [00:00<?, ?trial/s, best loss=?]"
     ]
    },
    {
     "name": "stderr",
     "output_type": "stream",
     "text": [
      "build_posterior_wrapper took 0.021582 seconds\n",
      "TPE using 0 trials\n"
     ]
    },
    {
     "name": "stdout",
     "output_type": "stream",
     "text": [
      "  1%|▌                                               | 1/80 [00:14<18:47, 14.27s/trial, best loss: -0.6400639744102359]"
     ]
    },
    {
     "name": "stderr",
     "output_type": "stream",
     "text": [
      "build_posterior_wrapper took 0.015991 seconds\n",
      "TPE using 1/1 trials with best loss -0.640064\n"
     ]
    },
    {
     "name": "stdout",
     "output_type": "stream",
     "text": [
      "  2%|█▏                                              | 2/80 [00:48<33:56, 26.11s/trial, best loss: -0.6400639744102359]"
     ]
    },
    {
     "name": "stderr",
     "output_type": "stream",
     "text": [
      "build_posterior_wrapper took 0.008000 seconds\n",
      "TPE using 2/2 trials with best loss -0.640064\n"
     ]
    },
    {
     "name": "stdout",
     "output_type": "stream",
     "text": [
      "  4%|█▊                                              | 3/80 [01:24<39:17, 30.62s/trial, best loss: -0.6400639744102359]"
     ]
    },
    {
     "name": "stderr",
     "output_type": "stream",
     "text": [
      "build_posterior_wrapper took 0.014994 seconds\n",
      "TPE using 3/3 trials with best loss -0.640064\n"
     ]
    },
    {
     "name": "stdout",
     "output_type": "stream",
     "text": [
      "  5%|██▍                                             | 4/80 [01:51<37:04, 29.27s/trial, best loss: -0.6954418232706917]"
     ]
    },
    {
     "name": "stderr",
     "output_type": "stream",
     "text": [
      "build_posterior_wrapper took 0.006001 seconds\n",
      "TPE using 4/4 trials with best loss -0.695442\n"
     ]
    },
    {
     "name": "stdout",
     "output_type": "stream",
     "text": [
      "  6%|███                                             | 5/80 [02:09<31:10, 24.94s/trial, best loss: -0.6954418232706917]"
     ]
    },
    {
     "name": "stderr",
     "output_type": "stream",
     "text": [
      "build_posterior_wrapper took 0.005997 seconds\n",
      "TPE using 5/5 trials with best loss -0.695442\n"
     ]
    },
    {
     "name": "stdout",
     "output_type": "stream",
     "text": [
      "  8%|███▌                                            | 6/80 [02:13<22:10, 17.99s/trial, best loss: -0.6954418232706917]"
     ]
    },
    {
     "name": "stderr",
     "output_type": "stream",
     "text": [
      "build_posterior_wrapper took 0.005996 seconds\n",
      "TPE using 6/6 trials with best loss -0.695442\n"
     ]
    },
    {
     "name": "stdout",
     "output_type": "stream",
     "text": [
      "  9%|████▏                                           | 7/80 [02:30<21:27, 17.64s/trial, best loss: -0.6954418232706917]"
     ]
    },
    {
     "name": "stderr",
     "output_type": "stream",
     "text": [
      "build_posterior_wrapper took 0.004997 seconds\n",
      "TPE using 7/7 trials with best loss -0.695442\n"
     ]
    },
    {
     "name": "stdout",
     "output_type": "stream",
     "text": [
      " 10%|████▊                                           | 8/80 [02:30<14:30, 12.09s/trial, best loss: -0.6954418232706917]"
     ]
    },
    {
     "name": "stderr",
     "output_type": "stream",
     "text": [
      "build_posterior_wrapper took 0.005997 seconds\n",
      "TPE using 8/8 trials with best loss -0.695442\n"
     ]
    },
    {
     "name": "stdout",
     "output_type": "stream",
     "text": [
      " 11%|█████▍                                          | 9/80 [02:34<11:23,  9.62s/trial, best loss: -0.6954418232706917]"
     ]
    },
    {
     "name": "stderr",
     "output_type": "stream",
     "text": [
      "build_posterior_wrapper took 0.004992 seconds\n",
      "TPE using 9/9 trials with best loss -0.695442\n"
     ]
    },
    {
     "name": "stdout",
     "output_type": "stream",
     "text": [
      " 12%|█████▉                                         | 10/80 [02:35<07:50,  6.71s/trial, best loss: -0.6954418232706917]"
     ]
    },
    {
     "name": "stderr",
     "output_type": "stream",
     "text": [
      "build_posterior_wrapper took 0.005996 seconds\n",
      "TPE using 10/10 trials with best loss -0.695442\n"
     ]
    },
    {
     "name": "stdout",
     "output_type": "stream",
     "text": [
      " 14%|██████▍                                        | 11/80 [02:39<06:54,  6.00s/trial, best loss: -0.6954418232706917]"
     ]
    },
    {
     "name": "stderr",
     "output_type": "stream",
     "text": [
      "build_posterior_wrapper took 0.004997 seconds\n",
      "TPE using 11/11 trials with best loss -0.695442\n"
     ]
    },
    {
     "name": "stdout",
     "output_type": "stream",
     "text": [
      " 15%|███████                                        | 12/80 [02:40<05:00,  4.42s/trial, best loss: -0.6954418232706917]"
     ]
    },
    {
     "name": "stderr",
     "output_type": "stream",
     "text": [
      "build_posterior_wrapper took 0.005997 seconds\n",
      "TPE using 12/12 trials with best loss -0.695442\n"
     ]
    },
    {
     "name": "stdout",
     "output_type": "stream",
     "text": [
      " 16%|███████▋                                       | 13/80 [02:44<04:51,  4.35s/trial, best loss: -0.6954418232706917]"
     ]
    },
    {
     "name": "stderr",
     "output_type": "stream",
     "text": [
      "build_posterior_wrapper took 0.004997 seconds\n",
      "TPE using 13/13 trials with best loss -0.695442\n"
     ]
    },
    {
     "name": "stdout",
     "output_type": "stream",
     "text": [
      " 18%|████████▏                                      | 14/80 [03:04<09:51,  8.96s/trial, best loss: -0.7231240836998534]"
     ]
    },
    {
     "name": "stderr",
     "output_type": "stream",
     "text": [
      "build_posterior_wrapper took 0.005997 seconds\n",
      "TPE using 14/14 trials with best loss -0.723124\n"
     ]
    },
    {
     "name": "stdout",
     "output_type": "stream",
     "text": [
      " 19%|████████▊                                      | 15/80 [03:04<06:50,  6.32s/trial, best loss: -0.7231240836998534]"
     ]
    },
    {
     "name": "stderr",
     "output_type": "stream",
     "text": [
      "build_posterior_wrapper took 0.005999 seconds\n",
      "TPE using 15/15 trials with best loss -0.723124\n"
     ]
    },
    {
     "name": "stdout",
     "output_type": "stream",
     "text": [
      " 20%|█████████▍                                     | 16/80 [03:27<12:00, 11.25s/trial, best loss: -0.7231374117019858]"
     ]
    },
    {
     "name": "stderr",
     "output_type": "stream",
     "text": [
      "build_posterior_wrapper took 0.005994 seconds\n",
      "TPE using 16/16 trials with best loss -0.723137\n"
     ]
    },
    {
     "name": "stdout",
     "output_type": "stream",
     "text": [
      " 21%|█████████▉                                     | 17/80 [03:27<08:31,  8.11s/trial, best loss: -0.7231374117019858]"
     ]
    },
    {
     "name": "stderr",
     "output_type": "stream",
     "text": [
      "build_posterior_wrapper took 0.005000 seconds\n",
      "TPE using 17/17 trials with best loss -0.723137\n"
     ]
    },
    {
     "name": "stdout",
     "output_type": "stream",
     "text": [
      " 22%|██████████▌                                    | 18/80 [03:32<07:11,  6.95s/trial, best loss: -0.7231374117019858]"
     ]
    },
    {
     "name": "stderr",
     "output_type": "stream",
     "text": [
      "build_posterior_wrapper took 0.005992 seconds\n",
      "TPE using 18/18 trials with best loss -0.723137\n"
     ]
    },
    {
     "name": "stdout",
     "output_type": "stream",
     "text": [
      " 24%|███████████▏                                   | 19/80 [03:51<10:59, 10.81s/trial, best loss: -0.7621884579501532]"
     ]
    },
    {
     "name": "stderr",
     "output_type": "stream",
     "text": [
      "build_posterior_wrapper took 0.005998 seconds\n",
      "TPE using 19/19 trials with best loss -0.762188\n"
     ]
    },
    {
     "name": "stdout",
     "output_type": "stream",
     "text": [
      " 25%|███████████▊                                   | 20/80 [03:52<07:49,  7.83s/trial, best loss: -0.7621884579501532]"
     ]
    },
    {
     "name": "stderr",
     "output_type": "stream",
     "text": [
      "build_posterior_wrapper took 0.005995 seconds\n",
      "TPE using 20/20 trials with best loss -0.762188\n"
     ]
    },
    {
     "name": "stdout",
     "output_type": "stream",
     "text": [
      " 26%|████████████▎                                  | 21/80 [04:14<11:48, 12.02s/trial, best loss: -0.7621884579501532]"
     ]
    },
    {
     "name": "stderr",
     "output_type": "stream",
     "text": [
      "build_posterior_wrapper took 0.004997 seconds\n",
      "TPE using 21/21 trials with best loss -0.762188\n"
     ]
    },
    {
     "name": "stdout",
     "output_type": "stream",
     "text": [
      " 28%|████████████▉                                  | 22/80 [04:36<14:31, 15.03s/trial, best loss: -0.7621884579501532]"
     ]
    },
    {
     "name": "stderr",
     "output_type": "stream",
     "text": [
      "build_posterior_wrapper took 0.004998 seconds\n",
      "TPE using 22/22 trials with best loss -0.762188\n"
     ]
    },
    {
     "name": "stdout",
     "output_type": "stream",
     "text": [
      " 29%|█████████████▌                                 | 23/80 [04:56<15:36, 16.43s/trial, best loss: -0.7622151139544181]"
     ]
    },
    {
     "name": "stderr",
     "output_type": "stream",
     "text": [
      "build_posterior_wrapper took 0.004997 seconds\n",
      "TPE using 23/23 trials with best loss -0.762215\n"
     ]
    },
    {
     "name": "stdout",
     "output_type": "stream",
     "text": [
      " 30%|██████████████                                 | 24/80 [05:15<16:14, 17.41s/trial, best loss: -0.7622151139544181]"
     ]
    },
    {
     "name": "stderr",
     "output_type": "stream",
     "text": [
      "build_posterior_wrapper took 0.004995 seconds\n",
      "TPE using 24/24 trials with best loss -0.762215\n"
     ]
    },
    {
     "name": "stdout",
     "output_type": "stream",
     "text": [
      " 31%|██████████████▋                                | 25/80 [05:39<17:38, 19.25s/trial, best loss: -0.7622151139544181]"
     ]
    },
    {
     "name": "stderr",
     "output_type": "stream",
     "text": [
      "build_posterior_wrapper took 0.005995 seconds\n",
      "TPE using 25/25 trials with best loss -0.762215\n"
     ]
    },
    {
     "name": "stdout",
     "output_type": "stream",
     "text": [
      " 32%|███████████████▎                               | 26/80 [05:59<17:30, 19.45s/trial, best loss: -0.7622151139544181]"
     ]
    },
    {
     "name": "stderr",
     "output_type": "stream",
     "text": [
      "build_posterior_wrapper took 0.004995 seconds\n",
      "TPE using 26/26 trials with best loss -0.762215\n"
     ]
    },
    {
     "name": "stdout",
     "output_type": "stream",
     "text": [
      " 34%|███████████████▊                               | 27/80 [06:18<17:09, 19.43s/trial, best loss: -0.7622151139544181]"
     ]
    },
    {
     "name": "stderr",
     "output_type": "stream",
     "text": [
      "build_posterior_wrapper took 0.005998 seconds\n",
      "TPE using 27/27 trials with best loss -0.762215\n"
     ]
    },
    {
     "name": "stdout",
     "output_type": "stream",
     "text": [
      " 35%|████████████████▍                              | 28/80 [06:37<16:44, 19.32s/trial, best loss: -0.7622151139544181]"
     ]
    },
    {
     "name": "stderr",
     "output_type": "stream",
     "text": [
      "build_posterior_wrapper took 0.005997 seconds\n",
      "TPE using 28/28 trials with best loss -0.762215\n"
     ]
    },
    {
     "name": "stdout",
     "output_type": "stream",
     "text": [
      " 36%|█████████████████                              | 29/80 [06:49<14:22, 16.91s/trial, best loss: -0.7622151139544181]"
     ]
    },
    {
     "name": "stderr",
     "output_type": "stream",
     "text": [
      "build_posterior_wrapper took 0.004996 seconds\n",
      "TPE using 29/29 trials with best loss -0.762215\n"
     ]
    },
    {
     "name": "stdout",
     "output_type": "stream",
     "text": [
      " 38%|█████████████████▋                             | 30/80 [06:59<12:27, 14.95s/trial, best loss: -0.7622151139544181]"
     ]
    },
    {
     "name": "stderr",
     "output_type": "stream",
     "text": [
      "build_posterior_wrapper took 0.005997 seconds\n",
      "TPE using 30/30 trials with best loss -0.762215\n"
     ]
    },
    {
     "name": "stdout",
     "output_type": "stream",
     "text": [
      " 39%|██████████████████▏                            | 31/80 [07:20<13:42, 16.79s/trial, best loss: -0.7622151139544181]"
     ]
    },
    {
     "name": "stderr",
     "output_type": "stream",
     "text": [
      "build_posterior_wrapper took 0.005992 seconds\n",
      "TPE using 31/31 trials with best loss -0.762215\n"
     ]
    },
    {
     "name": "stdout",
     "output_type": "stream",
     "text": [
      " 40%|██████████████████▊                            | 32/80 [07:40<14:09, 17.69s/trial, best loss: -0.7622151139544181]"
     ]
    },
    {
     "name": "stderr",
     "output_type": "stream",
     "text": [
      "build_posterior_wrapper took 0.006006 seconds\n",
      "TPE using 32/32 trials with best loss -0.762215\n"
     ]
    },
    {
     "name": "stdout",
     "output_type": "stream",
     "text": [
      " 41%|███████████████████▍                           | 33/80 [07:52<12:28, 15.93s/trial, best loss: -0.7622151139544181]"
     ]
    },
    {
     "name": "stderr",
     "output_type": "stream",
     "text": [
      "build_posterior_wrapper took 0.005994 seconds\n",
      "TPE using 33/33 trials with best loss -0.762215\n"
     ]
    },
    {
     "name": "stdout",
     "output_type": "stream",
     "text": [
      " 42%|███████████████████▉                           | 34/80 [08:13<13:27, 17.55s/trial, best loss: -0.7622151139544181]"
     ]
    },
    {
     "name": "stderr",
     "output_type": "stream",
     "text": [
      "build_posterior_wrapper took 0.005993 seconds\n",
      "TPE using 34/34 trials with best loss -0.762215\n"
     ]
    },
    {
     "name": "stdout",
     "output_type": "stream",
     "text": [
      " 44%|████████████████████▌                          | 35/80 [08:32<13:24, 17.87s/trial, best loss: -0.7687191789950686]"
     ]
    },
    {
     "name": "stderr",
     "output_type": "stream",
     "text": [
      "build_posterior_wrapper took 0.004992 seconds\n",
      "TPE using 35/35 trials with best loss -0.768719\n"
     ]
    },
    {
     "name": "stdout",
     "output_type": "stream",
     "text": [
      " 45%|█████████████████████▏                         | 36/80 [08:50<13:12, 18.01s/trial, best loss: -0.7687191789950686]"
     ]
    },
    {
     "name": "stderr",
     "output_type": "stream",
     "text": [
      "build_posterior_wrapper took 0.004994 seconds\n",
      "TPE using 36/36 trials with best loss -0.768719\n"
     ]
    },
    {
     "name": "stdout",
     "output_type": "stream",
     "text": [
      " 46%|█████████████████████▋                         | 37/80 [09:11<13:35, 18.97s/trial, best loss: -0.7687191789950686]"
     ]
    },
    {
     "name": "stderr",
     "output_type": "stream",
     "text": [
      "build_posterior_wrapper took 0.010997 seconds\n",
      "TPE using 37/37 trials with best loss -0.768719\n"
     ]
    },
    {
     "name": "stdout",
     "output_type": "stream",
     "text": [
      " 48%|██████████████████████▎                        | 38/80 [09:53<18:08, 25.91s/trial, best loss: -0.7687191789950686]"
     ]
    },
    {
     "name": "stderr",
     "output_type": "stream",
     "text": [
      "build_posterior_wrapper took 0.027983 seconds\n",
      "TPE using 38/38 trials with best loss -0.768719\n"
     ]
    },
    {
     "name": "stdout",
     "output_type": "stream",
     "text": [
      " 49%|██████████████████████▉                        | 39/80 [10:25<18:51, 27.60s/trial, best loss: -0.7687191789950686]"
     ]
    },
    {
     "name": "stderr",
     "output_type": "stream",
     "text": [
      "build_posterior_wrapper took 0.006006 seconds\n",
      "TPE using 39/39 trials with best loss -0.768719\n"
     ]
    },
    {
     "name": "stdout",
     "output_type": "stream",
     "text": [
      " 50%|███████████████████████▌                       | 40/80 [10:43<16:27, 24.68s/trial, best loss: -0.7687191789950686]"
     ]
    },
    {
     "name": "stderr",
     "output_type": "stream",
     "text": [
      "build_posterior_wrapper took 0.005995 seconds\n",
      "TPE using 40/40 trials with best loss -0.768719\n"
     ]
    },
    {
     "name": "stdout",
     "output_type": "stream",
     "text": [
      " 51%|████████████████████████                       | 41/80 [10:43<11:16, 17.35s/trial, best loss: -0.7687191789950686]"
     ]
    },
    {
     "name": "stderr",
     "output_type": "stream",
     "text": [
      "build_posterior_wrapper took 0.006001 seconds\n",
      "TPE using 41/41 trials with best loss -0.768719\n"
     ]
    },
    {
     "name": "stdout",
     "output_type": "stream",
     "text": [
      " 52%|████████████████████████▋                      | 42/80 [11:01<11:10, 17.64s/trial, best loss: -0.7687191789950686]"
     ]
    },
    {
     "name": "stderr",
     "output_type": "stream",
     "text": [
      "build_posterior_wrapper took 0.005998 seconds\n",
      "TPE using 42/42 trials with best loss -0.768719\n"
     ]
    },
    {
     "name": "stdout",
     "output_type": "stream",
     "text": [
      " 54%|█████████████████████████▎                     | 43/80 [11:02<07:46, 12.61s/trial, best loss: -0.7687191789950686]"
     ]
    },
    {
     "name": "stderr",
     "output_type": "stream",
     "text": [
      "build_posterior_wrapper took 0.004998 seconds\n",
      "TPE using 43/43 trials with best loss -0.768719\n"
     ]
    },
    {
     "name": "stdout",
     "output_type": "stream",
     "text": [
      " 55%|█████████████████████████▊                     | 44/80 [11:21<08:45, 14.60s/trial, best loss: -0.7687191789950686]"
     ]
    },
    {
     "name": "stderr",
     "output_type": "stream",
     "text": [
      "build_posterior_wrapper took 0.004995 seconds\n",
      "TPE using 44/44 trials with best loss -0.768719\n"
     ]
    },
    {
     "name": "stdout",
     "output_type": "stream",
     "text": [
      " 56%|██████████████████████████▍                    | 45/80 [11:22<06:00, 10.29s/trial, best loss: -0.7687191789950686]"
     ]
    },
    {
     "name": "stderr",
     "output_type": "stream",
     "text": [
      "build_posterior_wrapper took 0.008994 seconds\n",
      "TPE using 45/45 trials with best loss -0.768719\n"
     ]
    },
    {
     "name": "stdout",
     "output_type": "stream",
     "text": [
      " 57%|███████████████████████████                    | 46/80 [11:45<08:00, 14.15s/trial, best loss: -0.7687191789950686]"
     ]
    },
    {
     "name": "stderr",
     "output_type": "stream",
     "text": [
      "build_posterior_wrapper took 0.005995 seconds\n",
      "TPE using 46/46 trials with best loss -0.768719\n"
     ]
    },
    {
     "name": "stdout",
     "output_type": "stream",
     "text": [
      " 59%|███████████████████████████▌                   | 47/80 [11:50<06:14, 11.36s/trial, best loss: -0.7687191789950686]"
     ]
    },
    {
     "name": "stderr",
     "output_type": "stream",
     "text": [
      "build_posterior_wrapper took 0.006000 seconds\n",
      "TPE using 47/47 trials with best loss -0.768719\n"
     ]
    },
    {
     "name": "stdout",
     "output_type": "stream",
     "text": [
      " 60%|████████████████████████████▏                  | 48/80 [12:09<07:16, 13.63s/trial, best loss: -0.7687191789950686]"
     ]
    },
    {
     "name": "stderr",
     "output_type": "stream",
     "text": [
      "build_posterior_wrapper took 0.014737 seconds\n",
      "TPE using 48/48 trials with best loss -0.768719\n"
     ]
    },
    {
     "name": "stdout",
     "output_type": "stream",
     "text": [
      " 61%|████████████████████████████▊                  | 49/80 [12:10<05:10, 10.01s/trial, best loss: -0.7687191789950686]"
     ]
    },
    {
     "name": "stderr",
     "output_type": "stream",
     "text": [
      "build_posterior_wrapper took 0.012993 seconds\n",
      "TPE using 49/49 trials with best loss -0.768719\n"
     ]
    },
    {
     "name": "stdout",
     "output_type": "stream",
     "text": [
      " 62%|█████████████████████████████▍                 | 50/80 [12:31<06:36, 13.20s/trial, best loss: -0.7687191789950686]"
     ]
    },
    {
     "name": "stderr",
     "output_type": "stream",
     "text": [
      "build_posterior_wrapper took 0.005997 seconds\n",
      "TPE using 50/50 trials with best loss -0.768719\n"
     ]
    },
    {
     "name": "stdout",
     "output_type": "stream",
     "text": [
      " 64%|█████████████████████████████▉                 | 51/80 [12:31<04:30,  9.32s/trial, best loss: -0.7687191789950686]"
     ]
    },
    {
     "name": "stderr",
     "output_type": "stream",
     "text": [
      "build_posterior_wrapper took 0.005997 seconds\n",
      "TPE using 51/51 trials with best loss -0.768719\n"
     ]
    },
    {
     "name": "stdout",
     "output_type": "stream",
     "text": [
      " 65%|██████████████████████████████▌                | 52/80 [12:36<03:39,  7.86s/trial, best loss: -0.7687191789950686]"
     ]
    },
    {
     "name": "stderr",
     "output_type": "stream",
     "text": [
      "build_posterior_wrapper took 0.004998 seconds\n",
      "TPE using 52/52 trials with best loss -0.768719\n"
     ]
    },
    {
     "name": "stdout",
     "output_type": "stream",
     "text": [
      " 66%|███████████████████████████████▏               | 53/80 [13:16<07:55, 17.62s/trial, best loss: -0.7687191789950686]"
     ]
    },
    {
     "name": "stderr",
     "output_type": "stream",
     "text": [
      "build_posterior_wrapper took 0.010721 seconds\n",
      "TPE using 53/53 trials with best loss -0.768719\n"
     ]
    },
    {
     "name": "stdout",
     "output_type": "stream",
     "text": [
      " 68%|███████████████████████████████▋               | 54/80 [14:02<11:23, 26.28s/trial, best loss: -0.7687191789950686]"
     ]
    },
    {
     "name": "stderr",
     "output_type": "stream",
     "text": [
      "build_posterior_wrapper took 0.014991 seconds\n",
      "TPE using 54/54 trials with best loss -0.768719\n"
     ]
    },
    {
     "name": "stdout",
     "output_type": "stream",
     "text": [
      " 69%|████████████████████████████████▎              | 55/80 [14:45<13:02, 31.31s/trial, best loss: -0.7687191789950686]"
     ]
    },
    {
     "name": "stderr",
     "output_type": "stream",
     "text": [
      "build_posterior_wrapper took 0.006998 seconds\n",
      "TPE using 55/55 trials with best loss -0.768719\n"
     ]
    },
    {
     "name": "stdout",
     "output_type": "stream",
     "text": [
      " 70%|████████████████████████████████▉              | 56/80 [15:22<13:06, 32.77s/trial, best loss: -0.7687191789950686]"
     ]
    },
    {
     "name": "stderr",
     "output_type": "stream",
     "text": [
      "build_posterior_wrapper took 0.011992 seconds\n",
      "TPE using 56/56 trials with best loss -0.768719\n"
     ]
    },
    {
     "name": "stdout",
     "output_type": "stream",
     "text": [
      " 71%|█████████████████████████████████▍             | 57/80 [15:52<12:17, 32.08s/trial, best loss: -0.7687191789950686]"
     ]
    },
    {
     "name": "stderr",
     "output_type": "stream",
     "text": [
      "build_posterior_wrapper took 0.004994 seconds\n",
      "TPE using 57/57 trials with best loss -0.768719\n"
     ]
    },
    {
     "name": "stdout",
     "output_type": "stream",
     "text": [
      " 72%|██████████████████████████████████             | 58/80 [16:18<11:05, 30.27s/trial, best loss: -0.7687191789950686]"
     ]
    },
    {
     "name": "stderr",
     "output_type": "stream",
     "text": [
      "build_posterior_wrapper took 0.008994 seconds\n",
      "TPE using 58/58 trials with best loss -0.768719\n"
     ]
    },
    {
     "name": "stdout",
     "output_type": "stream",
     "text": [
      " 74%|██████████████████████████████████▋            | 59/80 [17:00<11:51, 33.89s/trial, best loss: -0.7687191789950686]"
     ]
    },
    {
     "name": "stderr",
     "output_type": "stream",
     "text": [
      "build_posterior_wrapper took 0.011994 seconds\n",
      "TPE using 59/59 trials with best loss -0.768719\n"
     ]
    },
    {
     "name": "stdout",
     "output_type": "stream",
     "text": [
      " 75%|███████████████████████████████████▎           | 60/80 [17:02<08:06, 24.33s/trial, best loss: -0.7687191789950686]"
     ]
    },
    {
     "name": "stderr",
     "output_type": "stream",
     "text": [
      "build_posterior_wrapper took 0.013991 seconds\n",
      "TPE using 60/60 trials with best loss -0.768719\n"
     ]
    },
    {
     "name": "stdout",
     "output_type": "stream",
     "text": [
      " 76%|███████████████████████████████████▊           | 61/80 [17:11<06:11, 19.56s/trial, best loss: -0.7687191789950686]"
     ]
    },
    {
     "name": "stderr",
     "output_type": "stream",
     "text": [
      "build_posterior_wrapper took 0.005998 seconds\n",
      "TPE using 61/61 trials with best loss -0.768719\n"
     ]
    },
    {
     "name": "stdout",
     "output_type": "stream",
     "text": [
      " 78%|████████████████████████████████████▍          | 62/80 [17:39<06:39, 22.17s/trial, best loss: -0.7687191789950686]"
     ]
    },
    {
     "name": "stderr",
     "output_type": "stream",
     "text": [
      "build_posterior_wrapper took 0.008985 seconds\n",
      "TPE using 62/62 trials with best loss -0.768719\n"
     ]
    },
    {
     "name": "stdout",
     "output_type": "stream",
     "text": [
      " 79%|█████████████████████████████████████          | 63/80 [17:57<05:54, 20.84s/trial, best loss: -0.7687191789950686]"
     ]
    },
    {
     "name": "stderr",
     "output_type": "stream",
     "text": [
      "build_posterior_wrapper took 0.004995 seconds\n",
      "TPE using 63/63 trials with best loss -0.768719\n"
     ]
    },
    {
     "name": "stdout",
     "output_type": "stream",
     "text": [
      " 80%|█████████████████████████████████████▌         | 64/80 [18:27<06:17, 23.62s/trial, best loss: -0.7687191789950686]"
     ]
    },
    {
     "name": "stderr",
     "output_type": "stream",
     "text": [
      "build_posterior_wrapper took 0.008997 seconds\n",
      "TPE using 64/64 trials with best loss -0.768719\n"
     ]
    },
    {
     "name": "stdout",
     "output_type": "stream",
     "text": [
      " 81%|██████████████████████████████████████▏        | 65/80 [18:27<04:09, 16.66s/trial, best loss: -0.7687191789950686]"
     ]
    },
    {
     "name": "stderr",
     "output_type": "stream",
     "text": [
      "build_posterior_wrapper took 0.005995 seconds\n",
      "TPE using 65/65 trials with best loss -0.768719\n"
     ]
    },
    {
     "name": "stdout",
     "output_type": "stream",
     "text": [
      " 82%|██████████████████████████████████████▊        | 66/80 [18:53<04:29, 19.24s/trial, best loss: -0.7687191789950686]"
     ]
    },
    {
     "name": "stderr",
     "output_type": "stream",
     "text": [
      "build_posterior_wrapper took 0.008995 seconds\n",
      "TPE using 66/66 trials with best loss -0.768719\n"
     ]
    },
    {
     "name": "stdout",
     "output_type": "stream",
     "text": [
      " 84%|███████████████████████████████████████▎       | 67/80 [19:21<04:45, 21.97s/trial, best loss: -0.7687191789950686]"
     ]
    },
    {
     "name": "stderr",
     "output_type": "stream",
     "text": [
      "build_posterior_wrapper took 0.004992 seconds\n",
      "TPE using 67/67 trials with best loss -0.768719\n"
     ]
    },
    {
     "name": "stdout",
     "output_type": "stream",
     "text": [
      " 85%|███████████████████████████████████████▉       | 68/80 [19:47<04:38, 23.23s/trial, best loss: -0.7687191789950686]"
     ]
    },
    {
     "name": "stderr",
     "output_type": "stream",
     "text": [
      "build_posterior_wrapper took 0.131916 seconds\n",
      "TPE using 68/68 trials with best loss -0.768719\n"
     ]
    },
    {
     "name": "stdout",
     "output_type": "stream",
     "text": [
      " 86%|████████████████████████████████████████▌      | 69/80 [20:15<04:31, 24.72s/trial, best loss: -0.7687191789950686]"
     ]
    },
    {
     "name": "stderr",
     "output_type": "stream",
     "text": [
      "build_posterior_wrapper took 0.005995 seconds\n",
      "TPE using 69/69 trials with best loss -0.768719\n"
     ]
    },
    {
     "name": "stdout",
     "output_type": "stream",
     "text": [
      " 88%|█████████████████████████████████████████▏     | 70/80 [20:39<04:02, 24.29s/trial, best loss: -0.7687191789950686]"
     ]
    },
    {
     "name": "stderr",
     "output_type": "stream",
     "text": [
      "build_posterior_wrapper took 0.006993 seconds\n",
      "TPE using 70/70 trials with best loss -0.768719\n"
     ]
    },
    {
     "name": "stdout",
     "output_type": "stream",
     "text": [
      " 89%|█████████████████████████████████████████▋     | 71/80 [20:40<02:35, 17.27s/trial, best loss: -0.7687191789950686]"
     ]
    },
    {
     "name": "stderr",
     "output_type": "stream",
     "text": [
      "build_posterior_wrapper took 0.005996 seconds\n",
      "TPE using 71/71 trials with best loss -0.768719\n"
     ]
    },
    {
     "name": "stdout",
     "output_type": "stream",
     "text": [
      " 90%|██████████████████████████████████████████▎    | 72/80 [20:53<02:09, 16.23s/trial, best loss: -0.7687191789950686]"
     ]
    },
    {
     "name": "stderr",
     "output_type": "stream",
     "text": [
      "build_posterior_wrapper took 0.005992 seconds\n",
      "TPE using 72/72 trials with best loss -0.768719\n"
     ]
    },
    {
     "name": "stdout",
     "output_type": "stream",
     "text": [
      " 91%|██████████████████████████████████████████▉    | 73/80 [21:27<02:29, 21.37s/trial, best loss: -0.7687191789950686]"
     ]
    },
    {
     "name": "stderr",
     "output_type": "stream",
     "text": [
      "build_posterior_wrapper took 0.006677 seconds\n",
      "TPE using 73/73 trials with best loss -0.768719\n"
     ]
    },
    {
     "name": "stdout",
     "output_type": "stream",
     "text": [
      " 92%|███████████████████████████████████████████▍   | 74/80 [21:52<02:14, 22.47s/trial, best loss: -0.7687191789950686]"
     ]
    },
    {
     "name": "stderr",
     "output_type": "stream",
     "text": [
      "build_posterior_wrapper took 0.008993 seconds\n",
      "TPE using 74/74 trials with best loss -0.768719\n"
     ]
    },
    {
     "name": "stdout",
     "output_type": "stream",
     "text": [
      " 94%|████████████████████████████████████████████   | 75/80 [22:21<02:01, 24.37s/trial, best loss: -0.7687191789950686]"
     ]
    },
    {
     "name": "stderr",
     "output_type": "stream",
     "text": [
      "build_posterior_wrapper took 0.004997 seconds\n",
      "TPE using 75/75 trials with best loss -0.768719\n"
     ]
    },
    {
     "name": "stdout",
     "output_type": "stream",
     "text": [
      " 95%|████████████████████████████████████████████▋  | 76/80 [22:27<01:15, 18.99s/trial, best loss: -0.7687191789950686]"
     ]
    },
    {
     "name": "stderr",
     "output_type": "stream",
     "text": [
      "build_posterior_wrapper took 0.007993 seconds\n",
      "TPE using 76/76 trials with best loss -0.768719\n"
     ]
    },
    {
     "name": "stdout",
     "output_type": "stream",
     "text": [
      " 96%|█████████████████████████████████████████████▏ | 77/80 [22:28<00:40, 13.50s/trial, best loss: -0.7687191789950686]"
     ]
    },
    {
     "name": "stderr",
     "output_type": "stream",
     "text": [
      "build_posterior_wrapper took 0.010994 seconds\n",
      "TPE using 77/77 trials with best loss -0.768719\n"
     ]
    },
    {
     "name": "stdout",
     "output_type": "stream",
     "text": [
      " 98%|█████████████████████████████████████████████▊ | 78/80 [22:51<00:33, 16.53s/trial, best loss: -0.7687191789950686]"
     ]
    },
    {
     "name": "stderr",
     "output_type": "stream",
     "text": [
      "build_posterior_wrapper took 0.005991 seconds\n",
      "TPE using 78/78 trials with best loss -0.768719\n"
     ]
    },
    {
     "name": "stdout",
     "output_type": "stream",
     "text": [
      " 99%|██████████████████████████████████████████████▍| 79/80 [23:17<00:19, 19.36s/trial, best loss: -0.7687191789950686]"
     ]
    },
    {
     "name": "stderr",
     "output_type": "stream",
     "text": [
      "build_posterior_wrapper took 0.129078 seconds\n",
      "TPE using 79/79 trials with best loss -0.768719\n"
     ]
    },
    {
     "name": "stdout",
     "output_type": "stream",
     "text": [
      "100%|███████████████████████████████████████████████| 80/80 [23:50<00:00, 17.88s/trial, best loss: -0.7687191789950686]\n"
     ]
    }
   ],
   "source": [
    "from sklearn.model_selection import cross_val_score\n",
    "trials = Trials()\n",
    "best = fmin(fn= objective,\n",
    "            space= space,\n",
    "            algo= tpe.suggest,\n",
    "            max_evals = 80,\n",
    "            trials= trials)"
   ]
  },
  {
   "cell_type": "code",
   "execution_count": 19,
   "id": "5f31f91a",
   "metadata": {},
   "outputs": [
    {
     "data": {
      "text/plain": [
       "{'criterion': 1,\n",
       " 'max_depth': 820.0,\n",
       " 'max_features': 2,\n",
       " 'min_samples_leaf': 0.07612276463030189,\n",
       " 'min_samples_split': 0.03598242227443349,\n",
       " 'n_estimators': 4}"
      ]
     },
     "execution_count": 19,
     "metadata": {},
     "output_type": "execute_result"
    }
   ],
   "source": [
    "best"
   ]
  },
  {
   "cell_type": "code",
   "execution_count": 20,
   "id": "801f0aab",
   "metadata": {},
   "outputs": [
    {
     "name": "stdout",
     "output_type": "stream",
     "text": [
      "gini\n",
      "log2\n",
      "1200\n"
     ]
    }
   ],
   "source": [
    "crit = {0: 'entropy', 1: 'gini'}\n",
    "feat = {0: 'auto', 1: 'sqrt', 2: 'log2', 3: None}\n",
    "est = {0: 10, 1: 50, 2: 300, 3: 750, 4: 1200,5:1300,6:1500}\n",
    "\n",
    "\n",
    "print(crit[best['criterion']])\n",
    "print(feat[best['max_features']])\n",
    "print(est[best['n_estimators']])"
   ]
  },
  {
   "cell_type": "code",
   "execution_count": 21,
   "id": "b6abaf62",
   "metadata": {},
   "outputs": [
    {
     "data": {
      "text/plain": [
       "0.07612276463030189"
      ]
     },
     "execution_count": 21,
     "metadata": {},
     "output_type": "execute_result"
    }
   ],
   "source": [
    "best['min_samples_leaf']"
   ]
  },
  {
   "cell_type": "code",
   "execution_count": 22,
   "id": "5187003f",
   "metadata": {},
   "outputs": [
    {
     "name": "stdout",
     "output_type": "stream",
     "text": [
      "[[98  9]\n",
      " [21 26]]\n",
      "0.8051948051948052\n",
      "              precision    recall  f1-score   support\n",
      "\n",
      "           0       0.82      0.92      0.87       107\n",
      "           1       0.74      0.55      0.63        47\n",
      "\n",
      "    accuracy                           0.81       154\n",
      "   macro avg       0.78      0.73      0.75       154\n",
      "weighted avg       0.80      0.81      0.80       154\n",
      "\n"
     ]
    }
   ],
   "source": [
    "trainedforest = RandomForestClassifier(criterion = crit[best['criterion']], max_depth = best['max_depth'], \n",
    "                                       max_features = feat[best['max_features']], \n",
    "                                       min_samples_leaf = best['min_samples_leaf'], \n",
    "                                       min_samples_split = best['min_samples_split'], \n",
    "                                       n_estimators = est[best['n_estimators']]).fit(X_train,y_train)\n",
    "predictionforest = trainedforest.predict(X_test)\n",
    "print(confusion_matrix(y_test,predictionforest))\n",
    "print(accuracy_score(y_test,predictionforest))\n",
    "print(classification_report(y_test,predictionforest))\n",
    "acc5 = accuracy_score(y_test,predictionforest)"
   ]
  },
  {
   "cell_type": "markdown",
   "id": "ce9278bb",
   "metadata": {},
   "source": [
    "##### Genetic Algorithms\n",
    "Genetic Algorithms tries to apply natural selection mechanisms to Machine Learning contexts.\n",
    "\n",
    "Let's immagine we create a population of N Machine Learning models with some predifined Hyperparameters. We can then calculate the accuracy of each model and decide to keep just half of the models (the ones that performs best). We can now generate some offsprings having similar Hyperparameters to the ones of the best models so that go get again a population of N models. At this point we can again caltulate the accuracy of each model and repeate the cycle for a defined number of generations. In this way, just the best models will survive at the end of the process."
   ]
  },
  {
   "cell_type": "code",
   "execution_count": 23,
   "id": "296a8e1a",
   "metadata": {},
   "outputs": [
    {
     "name": "stdout",
     "output_type": "stream",
     "text": [
      "{'n_estimators': [200, 400, 600, 800, 1000, 1200, 1400, 1600, 1800, 2000], 'max_features': ['auto', 'sqrt', 'log2'], 'max_depth': [10, 120, 230, 340, 450, 560, 670, 780, 890, 1000], 'min_samples_split': [2, 5, 10, 14], 'min_samples_leaf': [1, 2, 4, 6, 8], 'criterion': ['entropy', 'gini']}\n"
     ]
    }
   ],
   "source": [
    "import numpy as np\n",
    "from sklearn.model_selection import RandomizedSearchCV\n",
    "# Number of trees in random forest\n",
    "n_estimators = [int(x) for x in np.linspace(start = 200, stop = 2000, num = 10)]\n",
    "# Number of features to consider at every split\n",
    "max_features = ['auto', 'sqrt','log2']\n",
    "# Maximum number of levels in tree\n",
    "max_depth = [int(x) for x in np.linspace(10, 1000,10)]\n",
    "# Minimum number of samples required to split a node\n",
    "min_samples_split = [2, 5, 10,14]\n",
    "# Minimum number of samples required at each leaf node\n",
    "min_samples_leaf = [1, 2, 4,6,8]\n",
    "# Create the random grid\n",
    "param = {'n_estimators': n_estimators,\n",
    "               'max_features': max_features,\n",
    "               'max_depth': max_depth,\n",
    "               'min_samples_split': min_samples_split,\n",
    "               'min_samples_leaf': min_samples_leaf,\n",
    "              'criterion':['entropy','gini']}\n",
    "print(param)"
   ]
  },
  {
   "cell_type": "code",
   "execution_count": 25,
   "id": "967322be",
   "metadata": {},
   "outputs": [],
   "source": [
    "from tpot import TPOTClassifier"
   ]
  },
  {
   "cell_type": "code",
   "execution_count": 26,
   "id": "9ad5cce8",
   "metadata": {},
   "outputs": [
    {
     "name": "stderr",
     "output_type": "stream",
     "text": [
      "Code block execution exceeded 10 seconds timeout\n",
      "Traceback (most recent call last):\n",
      "  File \"C:\\Users\\user\\anaconda3\\lib\\site-packages\\stopit\\utils.py\", line 145, in wrapper\n",
      "    result = func(*args, **kwargs)\n",
      "  File \"C:\\Users\\user\\anaconda3\\lib\\site-packages\\tpot\\decorators.py\", line 57, in time_limited_call\n",
      "    func(*args)\n",
      "  File \"C:\\Users\\user\\anaconda3\\lib\\site-packages\\sklearn\\pipeline.py\", line 346, in fit\n",
      "    self._final_estimator.fit(Xt, y, **fit_params_last_step)\n",
      "  File \"C:\\Users\\user\\anaconda3\\lib\\site-packages\\sklearn\\ensemble\\_forest.py\", line 387, in fit\n",
      "    trees = Parallel(n_jobs=self.n_jobs, verbose=self.verbose,\n",
      "  File \"C:\\Users\\user\\anaconda3\\lib\\site-packages\\joblib\\parallel.py\", line 1044, in __call__\n",
      "    while self.dispatch_one_batch(iterator):\n",
      "  File \"C:\\Users\\user\\anaconda3\\lib\\site-packages\\joblib\\parallel.py\", line 859, in dispatch_one_batch\n",
      "    self._dispatch(tasks)\n",
      "  File \"C:\\Users\\user\\anaconda3\\lib\\site-packages\\joblib\\parallel.py\", line 777, in _dispatch\n",
      "    job = self._backend.apply_async(batch, callback=cb)\n",
      "  File \"C:\\Users\\user\\anaconda3\\lib\\site-packages\\joblib\\_parallel_backends.py\", line 208, in apply_async\n",
      "    result = ImmediateResult(func)\n",
      "  File \"C:\\Users\\user\\anaconda3\\lib\\site-packages\\joblib\\_parallel_backends.py\", line 572, in __init__\n",
      "    self.results = batch()\n",
      "  File \"C:\\Users\\user\\anaconda3\\lib\\site-packages\\joblib\\parallel.py\", line 262, in __call__\n",
      "    return [func(*args, **kwargs)\n",
      "  File \"C:\\Users\\user\\anaconda3\\lib\\site-packages\\joblib\\parallel.py\", line 262, in <listcomp>\n",
      "    return [func(*args, **kwargs)\n",
      "  File \"C:\\Users\\user\\anaconda3\\lib\\site-packages\\sklearn\\utils\\fixes.py\", line 222, in __call__\n",
      "    return self.function(*args, **kwargs)\n",
      "  File \"C:\\Users\\user\\anaconda3\\lib\\site-packages\\sklearn\\ensemble\\_forest.py\", line 169, in _parallel_build_trees\n",
      "    tree.fit(X, y, sample_weight=curr_sample_weight, check_input=False)\n",
      "  File \"C:\\Users\\user\\anaconda3\\lib\\site-packages\\sklearn\\tree\\_classes.py\", line 903, in fit\n",
      "    super().fit(\n",
      "  File \"C:\\Users\\user\\anaconda3\\lib\\site-packages\\sklearn\\tree\\_classes.py\", line 394, in fit\n",
      "    builder.build(self.tree_, X, y, sample_weight)\n",
      "stopit.utils.TimeoutException\n",
      "Code block execution exceeded 10 seconds timeout\n",
      "Traceback (most recent call last):\n",
      "  File \"C:\\Users\\user\\anaconda3\\lib\\site-packages\\stopit\\utils.py\", line 145, in wrapper\n",
      "    result = func(*args, **kwargs)\n",
      "  File \"C:\\Users\\user\\anaconda3\\lib\\site-packages\\tpot\\decorators.py\", line 57, in time_limited_call\n",
      "    func(*args)\n",
      "  File \"C:\\Users\\user\\anaconda3\\lib\\site-packages\\sklearn\\pipeline.py\", line 346, in fit\n",
      "    self._final_estimator.fit(Xt, y, **fit_params_last_step)\n",
      "  File \"C:\\Users\\user\\anaconda3\\lib\\site-packages\\sklearn\\ensemble\\_forest.py\", line 387, in fit\n",
      "    trees = Parallel(n_jobs=self.n_jobs, verbose=self.verbose,\n",
      "  File \"C:\\Users\\user\\anaconda3\\lib\\site-packages\\joblib\\parallel.py\", line 1044, in __call__\n",
      "    while self.dispatch_one_batch(iterator):\n",
      "  File \"C:\\Users\\user\\anaconda3\\lib\\site-packages\\joblib\\parallel.py\", line 859, in dispatch_one_batch\n",
      "    self._dispatch(tasks)\n",
      "  File \"C:\\Users\\user\\anaconda3\\lib\\site-packages\\joblib\\parallel.py\", line 777, in _dispatch\n",
      "    job = self._backend.apply_async(batch, callback=cb)\n",
      "  File \"C:\\Users\\user\\anaconda3\\lib\\site-packages\\joblib\\_parallel_backends.py\", line 208, in apply_async\n",
      "    result = ImmediateResult(func)\n",
      "  File \"C:\\Users\\user\\anaconda3\\lib\\site-packages\\joblib\\_parallel_backends.py\", line 572, in __init__\n",
      "    self.results = batch()\n",
      "  File \"C:\\Users\\user\\anaconda3\\lib\\site-packages\\joblib\\parallel.py\", line 262, in __call__\n",
      "    return [func(*args, **kwargs)\n",
      "  File \"C:\\Users\\user\\anaconda3\\lib\\site-packages\\joblib\\parallel.py\", line 262, in <listcomp>\n",
      "    return [func(*args, **kwargs)\n",
      "  File \"C:\\Users\\user\\anaconda3\\lib\\site-packages\\sklearn\\utils\\fixes.py\", line 222, in __call__\n",
      "    return self.function(*args, **kwargs)\n",
      "  File \"C:\\Users\\user\\anaconda3\\lib\\site-packages\\sklearn\\ensemble\\_forest.py\", line 155, in _parallel_build_trees\n",
      "    indices = _generate_sample_indices(tree.random_state, n_samples,\n",
      "  File \"C:\\Users\\user\\anaconda3\\lib\\site-packages\\sklearn\\ensemble\\_forest.py\", line 122, in _generate_sample_indices\n",
      "    sample_indices = random_instance.randint(0, n_samples, n_samples_bootstrap)\n",
      "stopit.utils.TimeoutException\n",
      "Code block execution exceeded 10 seconds timeout\n",
      "Traceback (most recent call last):\n",
      "  File \"C:\\Users\\user\\anaconda3\\lib\\site-packages\\stopit\\utils.py\", line 145, in wrapper\n",
      "    result = func(*args, **kwargs)\n",
      "  File \"C:\\Users\\user\\anaconda3\\lib\\site-packages\\tpot\\decorators.py\", line 57, in time_limited_call\n",
      "    func(*args)\n",
      "  File \"C:\\Users\\user\\anaconda3\\lib\\site-packages\\sklearn\\pipeline.py\", line 346, in fit\n",
      "    self._final_estimator.fit(Xt, y, **fit_params_last_step)\n",
      "  File \"C:\\Users\\user\\anaconda3\\lib\\site-packages\\sklearn\\ensemble\\_forest.py\", line 387, in fit\n",
      "    trees = Parallel(n_jobs=self.n_jobs, verbose=self.verbose,\n",
      "  File \"C:\\Users\\user\\anaconda3\\lib\\site-packages\\joblib\\parallel.py\", line 1044, in __call__\n",
      "    while self.dispatch_one_batch(iterator):\n",
      "  File \"C:\\Users\\user\\anaconda3\\lib\\site-packages\\joblib\\parallel.py\", line 859, in dispatch_one_batch\n",
      "    self._dispatch(tasks)\n",
      "  File \"C:\\Users\\user\\anaconda3\\lib\\site-packages\\joblib\\parallel.py\", line 777, in _dispatch\n",
      "    job = self._backend.apply_async(batch, callback=cb)\n",
      "  File \"C:\\Users\\user\\anaconda3\\lib\\site-packages\\joblib\\_parallel_backends.py\", line 208, in apply_async\n",
      "    result = ImmediateResult(func)\n",
      "  File \"C:\\Users\\user\\anaconda3\\lib\\site-packages\\joblib\\_parallel_backends.py\", line 572, in __init__\n",
      "    self.results = batch()\n",
      "  File \"C:\\Users\\user\\anaconda3\\lib\\site-packages\\joblib\\parallel.py\", line 262, in __call__\n",
      "    return [func(*args, **kwargs)\n",
      "  File \"C:\\Users\\user\\anaconda3\\lib\\site-packages\\joblib\\parallel.py\", line 262, in <listcomp>\n",
      "    return [func(*args, **kwargs)\n",
      "  File \"C:\\Users\\user\\anaconda3\\lib\\site-packages\\sklearn\\utils\\fixes.py\", line 222, in __call__\n",
      "    return self.function(*args, **kwargs)\n",
      "  File \"C:\\Users\\user\\anaconda3\\lib\\site-packages\\sklearn\\ensemble\\_forest.py\", line 169, in _parallel_build_trees\n",
      "    tree.fit(X, y, sample_weight=curr_sample_weight, check_input=False)\n",
      "  File \"C:\\Users\\user\\anaconda3\\lib\\site-packages\\sklearn\\tree\\_classes.py\", line 903, in fit\n",
      "    super().fit(\n",
      "  File \"C:\\Users\\user\\anaconda3\\lib\\site-packages\\sklearn\\tree\\_classes.py\", line 394, in fit\n",
      "    builder.build(self.tree_, X, y, sample_weight)\n",
      "stopit.utils.TimeoutException\n"
     ]
    },
    {
     "data": {
      "application/vnd.jupyter.widget-view+json": {
       "model_id": "",
       "version_major": 2,
       "version_minor": 0
      },
      "text/plain": [
       "Optimization Progress:   0%|          | 0/84 [00:00<?, ?pipeline/s]"
      ]
     },
     "metadata": {},
     "output_type": "display_data"
    },
    {
     "name": "stdout",
     "output_type": "stream",
     "text": [
      "\n",
      "Generation 1 - Current best internal CV score: 0.7621912401324166\n",
      "\n",
      "Generation 2 - Current best internal CV score: 0.7621912401324166\n"
     ]
    },
    {
     "name": "stderr",
     "output_type": "stream",
     "text": [
      "Code block execution exceeded 10 seconds timeout\n",
      "Traceback (most recent call last):\n",
      "  File \"C:\\Users\\user\\anaconda3\\lib\\site-packages\\stopit\\utils.py\", line 145, in wrapper\n",
      "    result = func(*args, **kwargs)\n",
      "  File \"C:\\Users\\user\\anaconda3\\lib\\site-packages\\tpot\\decorators.py\", line 57, in time_limited_call\n",
      "    func(*args)\n",
      "  File \"C:\\Users\\user\\anaconda3\\lib\\site-packages\\sklearn\\pipeline.py\", line 346, in fit\n",
      "    self._final_estimator.fit(Xt, y, **fit_params_last_step)\n",
      "  File \"C:\\Users\\user\\anaconda3\\lib\\site-packages\\sklearn\\ensemble\\_forest.py\", line 387, in fit\n",
      "    trees = Parallel(n_jobs=self.n_jobs, verbose=self.verbose,\n",
      "  File \"C:\\Users\\user\\anaconda3\\lib\\site-packages\\joblib\\parallel.py\", line 1044, in __call__\n",
      "    while self.dispatch_one_batch(iterator):\n",
      "  File \"C:\\Users\\user\\anaconda3\\lib\\site-packages\\joblib\\parallel.py\", line 859, in dispatch_one_batch\n",
      "    self._dispatch(tasks)\n",
      "  File \"C:\\Users\\user\\anaconda3\\lib\\site-packages\\joblib\\parallel.py\", line 777, in _dispatch\n",
      "    job = self._backend.apply_async(batch, callback=cb)\n",
      "  File \"C:\\Users\\user\\anaconda3\\lib\\site-packages\\joblib\\_parallel_backends.py\", line 208, in apply_async\n",
      "    result = ImmediateResult(func)\n",
      "  File \"C:\\Users\\user\\anaconda3\\lib\\site-packages\\joblib\\_parallel_backends.py\", line 572, in __init__\n",
      "    self.results = batch()\n",
      "  File \"C:\\Users\\user\\anaconda3\\lib\\site-packages\\joblib\\parallel.py\", line 262, in __call__\n",
      "    return [func(*args, **kwargs)\n",
      "  File \"C:\\Users\\user\\anaconda3\\lib\\site-packages\\joblib\\parallel.py\", line 262, in <listcomp>\n",
      "    return [func(*args, **kwargs)\n",
      "  File \"C:\\Users\\user\\anaconda3\\lib\\site-packages\\sklearn\\utils\\fixes.py\", line 222, in __call__\n",
      "    return self.function(*args, **kwargs)\n",
      "  File \"C:\\Users\\user\\anaconda3\\lib\\site-packages\\sklearn\\ensemble\\_forest.py\", line 155, in _parallel_build_trees\n",
      "    indices = _generate_sample_indices(tree.random_state, n_samples,\n",
      "  File \"C:\\Users\\user\\anaconda3\\lib\\site-packages\\sklearn\\ensemble\\_forest.py\", line 122, in _generate_sample_indices\n",
      "    sample_indices = random_instance.randint(0, n_samples, n_samples_bootstrap)\n",
      "stopit.utils.TimeoutException\n",
      "Code block execution exceeded 10 seconds timeout\n",
      "Traceback (most recent call last):\n",
      "  File \"C:\\Users\\user\\anaconda3\\lib\\site-packages\\stopit\\utils.py\", line 145, in wrapper\n",
      "    result = func(*args, **kwargs)\n",
      "  File \"C:\\Users\\user\\anaconda3\\lib\\site-packages\\tpot\\decorators.py\", line 57, in time_limited_call\n",
      "    func(*args)\n",
      "  File \"C:\\Users\\user\\anaconda3\\lib\\site-packages\\sklearn\\pipeline.py\", line 346, in fit\n",
      "    self._final_estimator.fit(Xt, y, **fit_params_last_step)\n",
      "  File \"C:\\Users\\user\\anaconda3\\lib\\site-packages\\sklearn\\ensemble\\_forest.py\", line 387, in fit\n",
      "    trees = Parallel(n_jobs=self.n_jobs, verbose=self.verbose,\n",
      "  File \"C:\\Users\\user\\anaconda3\\lib\\site-packages\\joblib\\parallel.py\", line 1044, in __call__\n",
      "    while self.dispatch_one_batch(iterator):\n",
      "  File \"C:\\Users\\user\\anaconda3\\lib\\site-packages\\joblib\\parallel.py\", line 859, in dispatch_one_batch\n",
      "    self._dispatch(tasks)\n",
      "  File \"C:\\Users\\user\\anaconda3\\lib\\site-packages\\joblib\\parallel.py\", line 777, in _dispatch\n",
      "    job = self._backend.apply_async(batch, callback=cb)\n",
      "  File \"C:\\Users\\user\\anaconda3\\lib\\site-packages\\joblib\\_parallel_backends.py\", line 208, in apply_async\n",
      "    result = ImmediateResult(func)\n",
      "  File \"C:\\Users\\user\\anaconda3\\lib\\site-packages\\joblib\\_parallel_backends.py\", line 572, in __init__\n",
      "    self.results = batch()\n",
      "  File \"C:\\Users\\user\\anaconda3\\lib\\site-packages\\joblib\\parallel.py\", line 262, in __call__\n",
      "    return [func(*args, **kwargs)\n",
      "  File \"C:\\Users\\user\\anaconda3\\lib\\site-packages\\joblib\\parallel.py\", line 262, in <listcomp>\n",
      "    return [func(*args, **kwargs)\n",
      "  File \"C:\\Users\\user\\anaconda3\\lib\\site-packages\\sklearn\\utils\\fixes.py\", line 222, in __call__\n",
      "    return self.function(*args, **kwargs)\n",
      "  File \"C:\\Users\\user\\anaconda3\\lib\\site-packages\\sklearn\\ensemble\\_forest.py\", line 169, in _parallel_build_trees\n",
      "    tree.fit(X, y, sample_weight=curr_sample_weight, check_input=False)\n",
      "  File \"C:\\Users\\user\\anaconda3\\lib\\site-packages\\sklearn\\tree\\_classes.py\", line 903, in fit\n",
      "    super().fit(\n",
      "  File \"C:\\Users\\user\\anaconda3\\lib\\site-packages\\sklearn\\tree\\_classes.py\", line 394, in fit\n",
      "    builder.build(self.tree_, X, y, sample_weight)\n",
      "stopit.utils.TimeoutException\n",
      "Code block execution exceeded 10 seconds timeout\n",
      "Traceback (most recent call last):\n",
      "  File \"C:\\Users\\user\\anaconda3\\lib\\site-packages\\stopit\\utils.py\", line 145, in wrapper\n",
      "    result = func(*args, **kwargs)\n",
      "  File \"C:\\Users\\user\\anaconda3\\lib\\site-packages\\tpot\\decorators.py\", line 57, in time_limited_call\n",
      "    func(*args)\n",
      "  File \"C:\\Users\\user\\anaconda3\\lib\\site-packages\\sklearn\\pipeline.py\", line 346, in fit\n",
      "    self._final_estimator.fit(Xt, y, **fit_params_last_step)\n",
      "  File \"C:\\Users\\user\\anaconda3\\lib\\site-packages\\sklearn\\ensemble\\_forest.py\", line 387, in fit\n",
      "    trees = Parallel(n_jobs=self.n_jobs, verbose=self.verbose,\n",
      "  File \"C:\\Users\\user\\anaconda3\\lib\\site-packages\\joblib\\parallel.py\", line 1044, in __call__\n",
      "    while self.dispatch_one_batch(iterator):\n",
      "  File \"C:\\Users\\user\\anaconda3\\lib\\site-packages\\joblib\\parallel.py\", line 859, in dispatch_one_batch\n",
      "    self._dispatch(tasks)\n",
      "  File \"C:\\Users\\user\\anaconda3\\lib\\site-packages\\joblib\\parallel.py\", line 777, in _dispatch\n",
      "    job = self._backend.apply_async(batch, callback=cb)\n",
      "  File \"C:\\Users\\user\\anaconda3\\lib\\site-packages\\joblib\\_parallel_backends.py\", line 208, in apply_async\n",
      "    result = ImmediateResult(func)\n",
      "  File \"C:\\Users\\user\\anaconda3\\lib\\site-packages\\joblib\\_parallel_backends.py\", line 572, in __init__\n",
      "    self.results = batch()\n",
      "  File \"C:\\Users\\user\\anaconda3\\lib\\site-packages\\joblib\\parallel.py\", line 262, in __call__\n",
      "    return [func(*args, **kwargs)\n",
      "  File \"C:\\Users\\user\\anaconda3\\lib\\site-packages\\joblib\\parallel.py\", line 262, in <listcomp>\n",
      "    return [func(*args, **kwargs)\n",
      "  File \"C:\\Users\\user\\anaconda3\\lib\\site-packages\\sklearn\\utils\\fixes.py\", line 222, in __call__\n",
      "    return self.function(*args, **kwargs)\n",
      "  File \"C:\\Users\\user\\anaconda3\\lib\\site-packages\\sklearn\\ensemble\\_forest.py\", line 169, in _parallel_build_trees\n",
      "    tree.fit(X, y, sample_weight=curr_sample_weight, check_input=False)\n",
      "  File \"C:\\Users\\user\\anaconda3\\lib\\site-packages\\sklearn\\tree\\_classes.py\", line 903, in fit\n",
      "    super().fit(\n",
      "  File \"C:\\Users\\user\\anaconda3\\lib\\site-packages\\sklearn\\tree\\_classes.py\", line 394, in fit\n",
      "    builder.build(self.tree_, X, y, sample_weight)\n",
      "stopit.utils.TimeoutException\n",
      "Code block execution exceeded 10 seconds timeout\n",
      "Traceback (most recent call last):\n",
      "  File \"C:\\Users\\user\\anaconda3\\lib\\site-packages\\stopit\\utils.py\", line 145, in wrapper\n",
      "    result = func(*args, **kwargs)\n",
      "  File \"C:\\Users\\user\\anaconda3\\lib\\site-packages\\tpot\\decorators.py\", line 57, in time_limited_call\n",
      "    func(*args)\n",
      "  File \"C:\\Users\\user\\anaconda3\\lib\\site-packages\\sklearn\\pipeline.py\", line 346, in fit\n",
      "    self._final_estimator.fit(Xt, y, **fit_params_last_step)\n",
      "  File \"C:\\Users\\user\\anaconda3\\lib\\site-packages\\sklearn\\ensemble\\_forest.py\", line 377, in fit\n",
      "    trees = [self._make_estimator(append=False,\n",
      "  File \"C:\\Users\\user\\anaconda3\\lib\\site-packages\\sklearn\\ensemble\\_forest.py\", line 377, in <listcomp>\n",
      "    trees = [self._make_estimator(append=False,\n",
      "  File \"C:\\Users\\user\\anaconda3\\lib\\site-packages\\sklearn\\ensemble\\_base.py\", line 150, in _make_estimator\n",
      "    estimator = clone(self.base_estimator_)\n",
      "  File \"C:\\Users\\user\\anaconda3\\lib\\site-packages\\sklearn\\utils\\validation.py\", line 63, in inner_f\n",
      "    return f(*args, **kwargs)\n",
      "  File \"C:\\Users\\user\\anaconda3\\lib\\site-packages\\sklearn\\base.py\", line 74, in clone\n",
      "    new_object_params = estimator.get_params(deep=False)\n",
      "  File \"C:\\Users\\user\\anaconda3\\lib\\site-packages\\sklearn\\base.py\", line 194, in get_params\n",
      "    for key in self._get_param_names():\n",
      "  File \"C:\\Users\\user\\anaconda3\\lib\\site-packages\\sklearn\\base.py\", line 163, in _get_param_names\n",
      "    init_signature = inspect.signature(init)\n",
      "  File \"C:\\Users\\user\\anaconda3\\lib\\inspect.py\", line 3105, in signature\n",
      "    return Signature.from_callable(obj, follow_wrapped=follow_wrapped)\n",
      "  File \"C:\\Users\\user\\anaconda3\\lib\\inspect.py\", line 2854, in from_callable\n",
      "    return _signature_from_callable(obj, sigcls=cls,\n",
      "  File \"C:\\Users\\user\\anaconda3\\lib\\inspect.py\", line 2304, in _signature_from_callable\n",
      "    return _signature_from_function(sigcls, obj,\n",
      "  File \"C:\\Users\\user\\anaconda3\\lib\\inspect.py\", line 2197, in _signature_from_function\n",
      "    parameters.append(Parameter(name, annotation=annotation,\n",
      "  File \"C:\\Users\\user\\anaconda3\\lib\\inspect.py\", line 2491, in __init__\n",
      "    self._kind = _ParameterKind(kind)\n",
      "stopit.utils.TimeoutException\n",
      "Code block execution exceeded 10 seconds timeout\n",
      "Traceback (most recent call last):\n",
      "  File \"C:\\Users\\user\\anaconda3\\lib\\site-packages\\stopit\\utils.py\", line 145, in wrapper\n",
      "    result = func(*args, **kwargs)\n",
      "  File \"C:\\Users\\user\\anaconda3\\lib\\site-packages\\tpot\\decorators.py\", line 57, in time_limited_call\n",
      "    func(*args)\n",
      "  File \"C:\\Users\\user\\anaconda3\\lib\\site-packages\\sklearn\\pipeline.py\", line 346, in fit\n",
      "    self._final_estimator.fit(Xt, y, **fit_params_last_step)\n",
      "  File \"C:\\Users\\user\\anaconda3\\lib\\site-packages\\sklearn\\ensemble\\_forest.py\", line 387, in fit\n",
      "    trees = Parallel(n_jobs=self.n_jobs, verbose=self.verbose,\n",
      "  File \"C:\\Users\\user\\anaconda3\\lib\\site-packages\\joblib\\parallel.py\", line 1044, in __call__\n",
      "    while self.dispatch_one_batch(iterator):\n",
      "  File \"C:\\Users\\user\\anaconda3\\lib\\site-packages\\joblib\\parallel.py\", line 859, in dispatch_one_batch\n",
      "    self._dispatch(tasks)\n",
      "  File \"C:\\Users\\user\\anaconda3\\lib\\site-packages\\joblib\\parallel.py\", line 777, in _dispatch\n",
      "    job = self._backend.apply_async(batch, callback=cb)\n",
      "  File \"C:\\Users\\user\\anaconda3\\lib\\site-packages\\joblib\\_parallel_backends.py\", line 208, in apply_async\n",
      "    result = ImmediateResult(func)\n",
      "  File \"C:\\Users\\user\\anaconda3\\lib\\site-packages\\joblib\\_parallel_backends.py\", line 572, in __init__\n",
      "    self.results = batch()\n",
      "  File \"C:\\Users\\user\\anaconda3\\lib\\site-packages\\joblib\\parallel.py\", line 262, in __call__\n",
      "    return [func(*args, **kwargs)\n",
      "  File \"C:\\Users\\user\\anaconda3\\lib\\site-packages\\joblib\\parallel.py\", line 262, in <listcomp>\n",
      "    return [func(*args, **kwargs)\n",
      "  File \"C:\\Users\\user\\anaconda3\\lib\\site-packages\\sklearn\\utils\\fixes.py\", line 222, in __call__\n",
      "    return self.function(*args, **kwargs)\n",
      "  File \"C:\\Users\\user\\anaconda3\\lib\\site-packages\\sklearn\\ensemble\\_forest.py\", line 169, in _parallel_build_trees\n",
      "    tree.fit(X, y, sample_weight=curr_sample_weight, check_input=False)\n",
      "  File \"C:\\Users\\user\\anaconda3\\lib\\site-packages\\sklearn\\tree\\_classes.py\", line 903, in fit\n",
      "    super().fit(\n",
      "  File \"C:\\Users\\user\\anaconda3\\lib\\site-packages\\sklearn\\tree\\_classes.py\", line 191, in fit\n",
      "    check_classification_targets(y)\n",
      "  File \"C:\\Users\\user\\anaconda3\\lib\\site-packages\\sklearn\\utils\\multiclass.py\", line 180, in check_classification_targets\n",
      "    y_type = type_of_target(y)\n",
      "  File \"C:\\Users\\user\\anaconda3\\lib\\site-packages\\sklearn\\utils\\multiclass.py\", line 306, in type_of_target\n",
      "    if (len(np.unique(y)) > 2) or (y.ndim >= 2 and len(y[0]) > 1):\n",
      "  File \"<__array_function__ internals>\", line 5, in unique\n",
      "  File \"C:\\Users\\user\\anaconda3\\lib\\site-packages\\numpy\\lib\\arraysetops.py\", line 262, in unique\n",
      "    ret = _unique1d(ar, return_index, return_inverse, return_counts)\n",
      "  File \"C:\\Users\\user\\anaconda3\\lib\\site-packages\\numpy\\lib\\arraysetops.py\", line 323, in _unique1d\n",
      "    ar.sort()\n",
      "stopit.utils.TimeoutException\n"
     ]
    },
    {
     "name": "stdout",
     "output_type": "stream",
     "text": [
      "\n",
      "Generation 3 - Current best internal CV score: 0.7621912401324166\n",
      "\n",
      "Generation 4 - Current best internal CV score: 0.7621912401324166\n"
     ]
    },
    {
     "name": "stderr",
     "output_type": "stream",
     "text": [
      "Code block execution exceeded 10 seconds timeout\n",
      "Traceback (most recent call last):\n",
      "  File \"C:\\Users\\user\\anaconda3\\lib\\site-packages\\stopit\\utils.py\", line 145, in wrapper\n",
      "    result = func(*args, **kwargs)\n",
      "  File \"C:\\Users\\user\\anaconda3\\lib\\site-packages\\tpot\\decorators.py\", line 57, in time_limited_call\n",
      "    func(*args)\n",
      "  File \"C:\\Users\\user\\anaconda3\\lib\\site-packages\\sklearn\\pipeline.py\", line 346, in fit\n",
      "    self._final_estimator.fit(Xt, y, **fit_params_last_step)\n",
      "  File \"C:\\Users\\user\\anaconda3\\lib\\site-packages\\sklearn\\ensemble\\_forest.py\", line 387, in fit\n",
      "    trees = Parallel(n_jobs=self.n_jobs, verbose=self.verbose,\n",
      "  File \"C:\\Users\\user\\anaconda3\\lib\\site-packages\\joblib\\parallel.py\", line 1044, in __call__\n",
      "    while self.dispatch_one_batch(iterator):\n",
      "  File \"C:\\Users\\user\\anaconda3\\lib\\site-packages\\joblib\\parallel.py\", line 859, in dispatch_one_batch\n",
      "    self._dispatch(tasks)\n",
      "  File \"C:\\Users\\user\\anaconda3\\lib\\site-packages\\joblib\\parallel.py\", line 777, in _dispatch\n",
      "    job = self._backend.apply_async(batch, callback=cb)\n",
      "  File \"C:\\Users\\user\\anaconda3\\lib\\site-packages\\joblib\\_parallel_backends.py\", line 208, in apply_async\n",
      "    result = ImmediateResult(func)\n",
      "  File \"C:\\Users\\user\\anaconda3\\lib\\site-packages\\joblib\\_parallel_backends.py\", line 572, in __init__\n",
      "    self.results = batch()\n",
      "  File \"C:\\Users\\user\\anaconda3\\lib\\site-packages\\joblib\\parallel.py\", line 262, in __call__\n",
      "    return [func(*args, **kwargs)\n",
      "  File \"C:\\Users\\user\\anaconda3\\lib\\site-packages\\joblib\\parallel.py\", line 262, in <listcomp>\n",
      "    return [func(*args, **kwargs)\n",
      "  File \"C:\\Users\\user\\anaconda3\\lib\\site-packages\\sklearn\\utils\\fixes.py\", line 222, in __call__\n",
      "    return self.function(*args, **kwargs)\n",
      "  File \"C:\\Users\\user\\anaconda3\\lib\\site-packages\\sklearn\\ensemble\\_forest.py\", line 169, in _parallel_build_trees\n",
      "    tree.fit(X, y, sample_weight=curr_sample_weight, check_input=False)\n",
      "  File \"C:\\Users\\user\\anaconda3\\lib\\site-packages\\sklearn\\tree\\_classes.py\", line 903, in fit\n",
      "    super().fit(\n",
      "  File \"C:\\Users\\user\\anaconda3\\lib\\site-packages\\sklearn\\tree\\_classes.py\", line 202, in fit\n",
      "    classes_k, y_encoded[:, k] = np.unique(y[:, k],\n",
      "stopit.utils.TimeoutException\n",
      "Code block execution exceeded 10 seconds timeout\n",
      "Traceback (most recent call last):\n",
      "  File \"C:\\Users\\user\\anaconda3\\lib\\site-packages\\stopit\\utils.py\", line 145, in wrapper\n",
      "    result = func(*args, **kwargs)\n",
      "  File \"C:\\Users\\user\\anaconda3\\lib\\site-packages\\tpot\\decorators.py\", line 57, in time_limited_call\n",
      "    func(*args)\n",
      "  File \"C:\\Users\\user\\anaconda3\\lib\\site-packages\\sklearn\\pipeline.py\", line 346, in fit\n",
      "    self._final_estimator.fit(Xt, y, **fit_params_last_step)\n",
      "  File \"C:\\Users\\user\\anaconda3\\lib\\site-packages\\sklearn\\ensemble\\_forest.py\", line 387, in fit\n",
      "    trees = Parallel(n_jobs=self.n_jobs, verbose=self.verbose,\n",
      "  File \"C:\\Users\\user\\anaconda3\\lib\\site-packages\\joblib\\parallel.py\", line 1044, in __call__\n",
      "    while self.dispatch_one_batch(iterator):\n",
      "  File \"C:\\Users\\user\\anaconda3\\lib\\site-packages\\joblib\\parallel.py\", line 859, in dispatch_one_batch\n",
      "    self._dispatch(tasks)\n",
      "  File \"C:\\Users\\user\\anaconda3\\lib\\site-packages\\joblib\\parallel.py\", line 777, in _dispatch\n",
      "    job = self._backend.apply_async(batch, callback=cb)\n",
      "  File \"C:\\Users\\user\\anaconda3\\lib\\site-packages\\joblib\\_parallel_backends.py\", line 208, in apply_async\n",
      "    result = ImmediateResult(func)\n",
      "  File \"C:\\Users\\user\\anaconda3\\lib\\site-packages\\joblib\\_parallel_backends.py\", line 572, in __init__\n",
      "    self.results = batch()\n",
      "  File \"C:\\Users\\user\\anaconda3\\lib\\site-packages\\joblib\\parallel.py\", line 262, in __call__\n",
      "    return [func(*args, **kwargs)\n",
      "  File \"C:\\Users\\user\\anaconda3\\lib\\site-packages\\joblib\\parallel.py\", line 262, in <listcomp>\n",
      "    return [func(*args, **kwargs)\n",
      "  File \"C:\\Users\\user\\anaconda3\\lib\\site-packages\\sklearn\\utils\\fixes.py\", line 222, in __call__\n",
      "    return self.function(*args, **kwargs)\n",
      "  File \"C:\\Users\\user\\anaconda3\\lib\\site-packages\\sklearn\\ensemble\\_forest.py\", line 169, in _parallel_build_trees\n",
      "    tree.fit(X, y, sample_weight=curr_sample_weight, check_input=False)\n",
      "  File \"C:\\Users\\user\\anaconda3\\lib\\site-packages\\sklearn\\tree\\_classes.py\", line 903, in fit\n",
      "    super().fit(\n",
      "  File \"C:\\Users\\user\\anaconda3\\lib\\site-packages\\sklearn\\tree\\_classes.py\", line 394, in fit\n",
      "    builder.build(self.tree_, X, y, sample_weight)\n",
      "stopit.utils.TimeoutException\n"
     ]
    },
    {
     "name": "stdout",
     "output_type": "stream",
     "text": [
      "\n",
      "Generation 5 - Current best internal CV score: 0.7621912401324166\n",
      "\n",
      "Best pipeline: RandomForestClassifier(CombineDFs(RandomForestClassifier(input_matrix, criterion=entropy, max_depth=890, max_features=log2, min_samples_leaf=8, min_samples_split=10, n_estimators=600), input_matrix), criterion=gini, max_depth=450, max_features=auto, min_samples_leaf=6, min_samples_split=14, n_estimators=1200)\n"
     ]
    },
    {
     "data": {
      "text/plain": [
       "TPOTClassifier(config_dict={'sklearn.ensemble.RandomForestClassifier': {'criterion': ['entropy',\n",
       "                                                                                      'gini'],\n",
       "                                                                        'max_depth': [10,\n",
       "                                                                                      120,\n",
       "                                                                                      230,\n",
       "                                                                                      340,\n",
       "                                                                                      450,\n",
       "                                                                                      560,\n",
       "                                                                                      670,\n",
       "                                                                                      780,\n",
       "                                                                                      890,\n",
       "                                                                                      1000],\n",
       "                                                                        'max_features': ['auto',\n",
       "                                                                                         'sqrt',\n",
       "                                                                                         'log2'],\n",
       "                                                                        'min_samples_leaf': [1,\n",
       "                                                                                             2,\n",
       "                                                                                             4,\n",
       "                                                                                             6,\n",
       "                                                                                             8],\n",
       "                                                                        'min_samples_split': [2,\n",
       "                                                                                              5,\n",
       "                                                                                              10,\n",
       "                                                                                              14],\n",
       "                                                                        'n_estimators': [200,\n",
       "                                                                                         400,\n",
       "                                                                                         600,\n",
       "                                                                                         800,\n",
       "                                                                                         1000,\n",
       "                                                                                         1200,\n",
       "                                                                                         1400,\n",
       "                                                                                         1600,\n",
       "                                                                                         1800,\n",
       "                                                                                         2000]}},\n",
       "               cv=4, early_stop=12, generations=5, offspring_size=12,\n",
       "               population_size=24, scoring='accuracy', verbosity=2)"
      ]
     },
     "execution_count": 26,
     "metadata": {},
     "output_type": "execute_result"
    }
   ],
   "source": [
    "tpot_classifier = TPOTClassifier(generations= 5, population_size= 24, offspring_size= 12,\n",
    "                                 verbosity= 2, early_stop= 12,\n",
    "                                 config_dict={'sklearn.ensemble.RandomForestClassifier': param}, \n",
    "                                 cv = 4, scoring = 'accuracy')\n",
    "tpot_classifier.fit(X_train,y_train)"
   ]
  },
  {
   "cell_type": "code",
   "execution_count": 27,
   "id": "fca86596",
   "metadata": {},
   "outputs": [
    {
     "name": "stdout",
     "output_type": "stream",
     "text": [
      "0.8636363636363636\n"
     ]
    }
   ],
   "source": [
    "accuracy = tpot_classifier.score(X_test, y_test)\n",
    "print(accuracy)"
   ]
  },
  {
   "cell_type": "markdown",
   "id": "f614cdae",
   "metadata": {},
   "source": [
    "#### Optimize hyperparameters of the model using Optuna\n",
    "The hyperparameters of the above algorithm are n_estimators and max_depth for which we can try different values to see if the model accuracy can be improved. The objective function is modified to accept a trial object. This trial has several methods for sampling hyperparameters. We create a study to run the hyperparameter optimization and finally read the best hyperparameters.\n",
    "--Automated search for optimal hyperparameters using Python conditionals, loops, and syntax\n",
    "--Efficiently search large spaces and prune unpromising trials for faster results.\n",
    "--Parallelize hyperparameter searches over multiple threads or processes without modifying code."
   ]
  },
  {
   "cell_type": "code",
   "execution_count": 29,
   "id": "6a9a68f6",
   "metadata": {},
   "outputs": [],
   "source": [
    "import optuna\n",
    "import sklearn.svm\n",
    "def objective(trial):\n",
    "\n",
    "    classifier = trial.suggest_categorical('classifier', ['RandomForest', 'SVC'])\n",
    "    \n",
    "    if classifier == 'RandomForest':\n",
    "        n_estimators = trial.suggest_int('n_estimators', 200, 2000,10)\n",
    "        max_depth = int(trial.suggest_float('max_depth', 10, 100, log=True))\n",
    "\n",
    "        clf = sklearn.ensemble.RandomForestClassifier(\n",
    "            n_estimators=n_estimators, max_depth=max_depth)\n",
    "    else:\n",
    "        c = trial.suggest_float('svc_c', 1e-10, 1e10, log=True)\n",
    "        \n",
    "        clf = sklearn.svm.SVC(C=c, gamma='auto')\n",
    "\n",
    "    return sklearn.model_selection.cross_val_score(\n",
    "        clf,X_train,y_train, n_jobs=-1, cv=3).mean()"
   ]
  },
  {
   "cell_type": "code",
   "execution_count": 30,
   "id": "a9476960",
   "metadata": {},
   "outputs": [
    {
     "name": "stderr",
     "output_type": "stream",
     "text": [
      "\u001b[32m[I 2022-02-07 18:19:03,058]\u001b[0m A new study created in memory with name: no-name-d8a20741-f876-4372-a258-7d3856b0bf1f\u001b[0m\n",
      "\u001b[32m[I 2022-02-07 18:19:22,228]\u001b[0m Trial 0 finished with value: 0.7524469950581859 and parameters: {'classifier': 'RandomForest', 'n_estimators': 1870, 'max_depth': 24.485592381264663}. Best is trial 0 with value: 0.7524469950581859.\u001b[0m\n",
      "\u001b[32m[I 2022-02-07 18:19:31,102]\u001b[0m Trial 1 finished with value: 0.7540650406504065 and parameters: {'classifier': 'RandomForest', 'n_estimators': 1020, 'max_depth': 79.4232475506669}. Best is trial 1 with value: 0.7540650406504065.\u001b[0m\n",
      "\u001b[32m[I 2022-02-07 18:19:31,487]\u001b[0m Trial 2 finished with value: 0.640068547744301 and parameters: {'classifier': 'SVC', 'svc_c': 1402198.3697193945}. Best is trial 1 with value: 0.7540650406504065.\u001b[0m\n",
      "\u001b[32m[I 2022-02-07 18:19:31,577]\u001b[0m Trial 3 finished with value: 0.640068547744301 and parameters: {'classifier': 'SVC', 'svc_c': 4.427806115012646e-06}. Best is trial 1 with value: 0.7540650406504065.\u001b[0m\n",
      "\u001b[32m[I 2022-02-07 18:19:31,696]\u001b[0m Trial 4 finished with value: 0.640068547744301 and parameters: {'classifier': 'SVC', 'svc_c': 147037334.6445204}. Best is trial 1 with value: 0.7540650406504065.\u001b[0m\n",
      "\u001b[32m[I 2022-02-07 18:19:31,831]\u001b[0m Trial 5 finished with value: 0.640068547744301 and parameters: {'classifier': 'SVC', 'svc_c': 25.267284717632197}. Best is trial 1 with value: 0.7540650406504065.\u001b[0m\n",
      "\u001b[32m[I 2022-02-07 18:19:31,955]\u001b[0m Trial 6 finished with value: 0.640068547744301 and parameters: {'classifier': 'SVC', 'svc_c': 5946.756028136078}. Best is trial 1 with value: 0.7540650406504065.\u001b[0m\n",
      "\u001b[32m[I 2022-02-07 18:19:32,073]\u001b[0m Trial 7 finished with value: 0.640068547744301 and parameters: {'classifier': 'SVC', 'svc_c': 0.009238814652125334}. Best is trial 1 with value: 0.7540650406504065.\u001b[0m\n",
      "\u001b[32m[I 2022-02-07 18:19:34,103]\u001b[0m Trial 8 finished with value: 0.7507970667941973 and parameters: {'classifier': 'RandomForest', 'n_estimators': 370, 'max_depth': 46.39254513648616}. Best is trial 1 with value: 0.7540650406504065.\u001b[0m\n",
      "\u001b[32m[I 2022-02-07 18:19:34,237]\u001b[0m Trial 9 finished with value: 0.640068547744301 and parameters: {'classifier': 'SVC', 'svc_c': 2221.663226971993}. Best is trial 1 with value: 0.7540650406504065.\u001b[0m\n",
      "\u001b[32m[I 2022-02-07 18:19:40,074]\u001b[0m Trial 10 finished with value: 0.7491790212019768 and parameters: {'classifier': 'RandomForest', 'n_estimators': 1020, 'max_depth': 85.47308939689695}. Best is trial 1 with value: 0.7540650406504065.\u001b[0m\n",
      "\u001b[32m[I 2022-02-07 18:19:50,251]\u001b[0m Trial 11 finished with value: 0.7524390243902439 and parameters: {'classifier': 'RandomForest', 'n_estimators': 1830, 'max_depth': 15.64480488371188}. Best is trial 1 with value: 0.7540650406504065.\u001b[0m\n",
      "\u001b[32m[I 2022-02-07 18:20:01,636]\u001b[0m Trial 12 finished with value: 0.7508050374621393 and parameters: {'classifier': 'RandomForest', 'n_estimators': 2000, 'max_depth': 20.686178243546284}. Best is trial 1 with value: 0.7540650406504065.\u001b[0m\n",
      "\u001b[32m[I 2022-02-07 18:20:08,001]\u001b[0m Trial 13 finished with value: 0.7491710505340348 and parameters: {'classifier': 'RandomForest', 'n_estimators': 1150, 'max_depth': 42.10615336883026}. Best is trial 1 with value: 0.7540650406504065.\u001b[0m\n",
      "\u001b[32m[I 2022-02-07 18:20:13,950]\u001b[0m Trial 14 finished with value: 0.7475609756097561 and parameters: {'classifier': 'RandomForest', 'n_estimators': 1160, 'max_depth': 89.13939575882817}. Best is trial 1 with value: 0.7540650406504065.\u001b[0m\n",
      "\u001b[32m[I 2022-02-07 18:20:23,751]\u001b[0m Trial 15 finished with value: 0.7491790212019768 and parameters: {'classifier': 'RandomForest', 'n_estimators': 1510, 'max_depth': 28.89355210872231}. Best is trial 1 with value: 0.7540650406504065.\u001b[0m\n",
      "\u001b[32m[I 2022-02-07 18:20:27,473]\u001b[0m Trial 16 finished with value: 0.7491710505340348 and parameters: {'classifier': 'RandomForest', 'n_estimators': 660, 'max_depth': 26.356411957261713}. Best is trial 1 with value: 0.7540650406504065.\u001b[0m\n",
      "\u001b[32m[I 2022-02-07 18:20:35,088]\u001b[0m Trial 17 finished with value: 0.7491710505340348 and parameters: {'classifier': 'RandomForest', 'n_estimators': 1520, 'max_depth': 12.449811926105546}. Best is trial 1 with value: 0.7540650406504065.\u001b[0m\n",
      "\u001b[32m[I 2022-02-07 18:20:40,217]\u001b[0m Trial 18 finished with value: 0.7475370636059302 and parameters: {'classifier': 'RandomForest', 'n_estimators': 860, 'max_depth': 53.56210749255203}. Best is trial 1 with value: 0.7540650406504065.\u001b[0m\n",
      "\u001b[32m[I 2022-02-07 18:20:49,229]\u001b[0m Trial 19 finished with value: 0.7426669854933844 and parameters: {'classifier': 'RandomForest', 'n_estimators': 1480, 'max_depth': 61.98253690090921}. Best is trial 1 with value: 0.7540650406504065.\u001b[0m\n",
      "\u001b[32m[I 2022-02-07 18:20:52,404]\u001b[0m Trial 20 finished with value: 0.7442690897497211 and parameters: {'classifier': 'RandomForest', 'n_estimators': 500, 'max_depth': 20.161417093657754}. Best is trial 1 with value: 0.7540650406504065.\u001b[0m\n",
      "\u001b[32m[I 2022-02-07 18:21:09,718]\u001b[0m Trial 21 finished with value: 0.7524310537223019 and parameters: {'classifier': 'RandomForest', 'n_estimators': 1990, 'max_depth': 13.545955374210061}. Best is trial 1 with value: 0.7540650406504065.\u001b[0m\n",
      "\u001b[32m[I 2022-02-07 18:21:26,702]\u001b[0m Trial 22 finished with value: 0.7524310537223019 and parameters: {'classifier': 'RandomForest', 'n_estimators': 1740, 'max_depth': 17.63634024287311}. Best is trial 1 with value: 0.7540650406504065.\u001b[0m\n",
      "\u001b[32m[I 2022-02-07 18:21:43,538]\u001b[0m Trial 23 finished with value: 0.7556830862426271 and parameters: {'classifier': 'RandomForest', 'n_estimators': 1760, 'max_depth': 10.372801216831348}. Best is trial 23 with value: 0.7556830862426271.\u001b[0m\n",
      "\u001b[32m[I 2022-02-07 18:21:56,260]\u001b[0m Trial 24 finished with value: 0.7540650406504065 and parameters: {'classifier': 'RandomForest', 'n_estimators': 1320, 'max_depth': 33.923437991394344}. Best is trial 23 with value: 0.7556830862426271.\u001b[0m\n",
      "\u001b[32m[I 2022-02-07 18:22:08,036]\u001b[0m Trial 25 finished with value: 0.7491630798660928 and parameters: {'classifier': 'RandomForest', 'n_estimators': 1280, 'max_depth': 36.014628434889296}. Best is trial 23 with value: 0.7556830862426271.\u001b[0m\n",
      "\u001b[32m[I 2022-02-07 18:22:16,337]\u001b[0m Trial 26 finished with value: 0.7475530049418141 and parameters: {'classifier': 'RandomForest', 'n_estimators': 860, 'max_depth': 69.58573392587833}. Best is trial 23 with value: 0.7556830862426271.\u001b[0m\n",
      "\u001b[32m[I 2022-02-07 18:22:28,625]\u001b[0m Trial 27 finished with value: 0.75242308305436 and parameters: {'classifier': 'RandomForest', 'n_estimators': 1330, 'max_depth': 10.219130998687191}. Best is trial 23 with value: 0.7556830862426271.\u001b[0m\n",
      "\u001b[32m[I 2022-02-07 18:22:39,726]\u001b[0m Trial 28 finished with value: 0.7556910569105691 and parameters: {'classifier': 'RandomForest', 'n_estimators': 1640, 'max_depth': 35.40475097428224}. Best is trial 28 with value: 0.7556910569105691.\u001b[0m\n",
      "\u001b[32m[I 2022-02-07 18:22:52,821]\u001b[0m Trial 29 finished with value: 0.7556830862426271 and parameters: {'classifier': 'RandomForest', 'n_estimators': 1670, 'max_depth': 68.47225070419732}. Best is trial 28 with value: 0.7556910569105691.\u001b[0m\n",
      "\u001b[32m[I 2022-02-07 18:23:03,870]\u001b[0m Trial 30 finished with value: 0.7491869918699187 and parameters: {'classifier': 'RandomForest', 'n_estimators': 1680, 'max_depth': 41.371090732342836}. Best is trial 28 with value: 0.7556910569105691.\u001b[0m\n",
      "\u001b[32m[I 2022-02-07 18:23:14,855]\u001b[0m Trial 31 finished with value: 0.7507970667941973 and parameters: {'classifier': 'RandomForest', 'n_estimators': 1640, 'max_depth': 71.25469036802177}. Best is trial 28 with value: 0.7556910569105691.\u001b[0m\n",
      "\u001b[32m[I 2022-02-07 18:23:20,753]\u001b[0m Trial 32 finished with value: 0.7475450342738722 and parameters: {'classifier': 'RandomForest', 'n_estimators': 960, 'max_depth': 97.53827065145838}. Best is trial 28 with value: 0.7556910569105691.\u001b[0m\n",
      "\u001b[32m[I 2022-02-07 18:23:29,685]\u001b[0m Trial 33 finished with value: 0.7491630798660928 and parameters: {'classifier': 'RandomForest', 'n_estimators': 1610, 'max_depth': 52.84922355449937}. Best is trial 28 with value: 0.7556910569105691.\u001b[0m\n",
      "\u001b[32m[I 2022-02-07 18:23:43,717]\u001b[0m Trial 34 finished with value: 0.7491790212019768 and parameters: {'classifier': 'RandomForest', 'n_estimators': 1850, 'max_depth': 73.83255487031767}. Best is trial 28 with value: 0.7556910569105691.\u001b[0m\n",
      "\u001b[32m[I 2022-02-07 18:23:43,875]\u001b[0m Trial 35 finished with value: 0.640068547744301 and parameters: {'classifier': 'SVC', 'svc_c': 2.2113936973897345e-09}. Best is trial 28 with value: 0.7556910569105691.\u001b[0m\n",
      "\u001b[32m[I 2022-02-07 18:23:58,108]\u001b[0m Trial 36 finished with value: 0.7475530049418141 and parameters: {'classifier': 'RandomForest', 'n_estimators': 1450, 'max_depth': 51.41409071537112}. Best is trial 28 with value: 0.7556910569105691.\u001b[0m\n",
      "\u001b[32m[I 2022-02-07 18:23:58,320]\u001b[0m Trial 37 finished with value: 0.640068547744301 and parameters: {'classifier': 'SVC', 'svc_c': 6654885097.841699}. Best is trial 28 with value: 0.7556910569105691.\u001b[0m\n",
      "\u001b[32m[I 2022-02-07 18:24:16,570]\u001b[0m Trial 38 finished with value: 0.7491790212019768 and parameters: {'classifier': 'RandomForest', 'n_estimators': 1750, 'max_depth': 59.73503830285597}. Best is trial 28 with value: 0.7556910569105691.\u001b[0m\n",
      "\u001b[32m[I 2022-02-07 18:24:16,716]\u001b[0m Trial 39 finished with value: 0.640068547744301 and parameters: {'classifier': 'SVC', 'svc_c': 0.0021975075054678763}. Best is trial 28 with value: 0.7556910569105691.\u001b[0m\n",
      "\u001b[32m[I 2022-02-07 18:24:32,369]\u001b[0m Trial 40 finished with value: 0.7524390243902439 and parameters: {'classifier': 'RandomForest', 'n_estimators': 1920, 'max_depth': 23.71382064341691}. Best is trial 28 with value: 0.7556910569105691.\u001b[0m\n",
      "\u001b[32m[I 2022-02-07 18:24:43,962]\u001b[0m Trial 41 finished with value: 0.744300972421489 and parameters: {'classifier': 'RandomForest', 'n_estimators': 1350, 'max_depth': 33.05948156889727}. Best is trial 28 with value: 0.7556910569105691.\u001b[0m\n",
      "\u001b[32m[I 2022-02-07 18:24:52,262]\u001b[0m Trial 42 finished with value: 0.7508209787980232 and parameters: {'classifier': 'RandomForest', 'n_estimators': 1230, 'max_depth': 38.603679217777135}. Best is trial 28 with value: 0.7556910569105691.\u001b[0m\n",
      "\u001b[32m[I 2022-02-07 18:25:00,388]\u001b[0m Trial 43 finished with value: 0.7491710505340348 and parameters: {'classifier': 'RandomForest', 'n_estimators': 1390, 'max_depth': 31.144277152184994}. Best is trial 28 with value: 0.7556910569105691.\u001b[0m\n",
      "\u001b[32m[I 2022-02-07 18:25:10,111]\u001b[0m Trial 44 finished with value: 0.7507970667941973 and parameters: {'classifier': 'RandomForest', 'n_estimators': 1610, 'max_depth': 47.745869133672144}. Best is trial 28 with value: 0.7556910569105691.\u001b[0m\n",
      "\u001b[32m[I 2022-02-07 18:25:10,229]\u001b[0m Trial 45 finished with value: 0.640068547744301 and parameters: {'classifier': 'SVC', 'svc_c': 1.1163536534723986e-10}. Best is trial 28 with value: 0.7556910569105691.\u001b[0m\n",
      "\u001b[32m[I 2022-02-07 18:25:16,272]\u001b[0m Trial 46 finished with value: 0.7556830862426271 and parameters: {'classifier': 'RandomForest', 'n_estimators': 970, 'max_depth': 79.85392000569877}. Best is trial 28 with value: 0.7556910569105691.\u001b[0m\n",
      "\u001b[32m[I 2022-02-07 18:25:26,254]\u001b[0m Trial 47 finished with value: 0.7459269886816515 and parameters: {'classifier': 'RandomForest', 'n_estimators': 1790, 'max_depth': 61.35978995865938}. Best is trial 28 with value: 0.7556910569105691.\u001b[0m\n",
      "\u001b[32m[I 2022-02-07 18:25:30,595]\u001b[0m Trial 48 finished with value: 0.7491869918699187 and parameters: {'classifier': 'RandomForest', 'n_estimators': 760, 'max_depth': 82.53126389586109}. Best is trial 28 with value: 0.7556910569105691.\u001b[0m\n",
      "\u001b[32m[I 2022-02-07 18:25:37,793]\u001b[0m Trial 49 finished with value: 0.7540650406504065 and parameters: {'classifier': 'RandomForest', 'n_estimators': 1100, 'max_depth': 21.433468118844143}. Best is trial 28 with value: 0.7556910569105691.\u001b[0m\n",
      "\u001b[32m[I 2022-02-07 18:25:45,148]\u001b[0m Trial 50 finished with value: 0.75242308305436 and parameters: {'classifier': 'RandomForest', 'n_estimators': 1010, 'max_depth': 27.888766655475372}. Best is trial 28 with value: 0.7556910569105691.\u001b[0m\n",
      "\u001b[32m[I 2022-02-07 18:25:52,352]\u001b[0m Trial 51 finished with value: 0.7507970667941973 and parameters: {'classifier': 'RandomForest', 'n_estimators': 1150, 'max_depth': 81.62893904211484}. Best is trial 28 with value: 0.7556910569105691.\u001b[0m\n",
      "\u001b[32m[I 2022-02-07 18:25:58,731]\u001b[0m Trial 52 finished with value: 0.7491710505340348 and parameters: {'classifier': 'RandomForest', 'n_estimators': 1080, 'max_depth': 10.005048199450524}. Best is trial 28 with value: 0.7556910569105691.\u001b[0m\n",
      "\u001b[32m[I 2022-02-07 18:26:04,594]\u001b[0m Trial 53 finished with value: 0.7524310537223019 and parameters: {'classifier': 'RandomForest', 'n_estimators': 920, 'max_depth': 78.45422940809009}. Best is trial 28 with value: 0.7556910569105691.\u001b[0m\n",
      "\u001b[32m[I 2022-02-07 18:26:11,553]\u001b[0m Trial 54 finished with value: 0.7540650406504065 and parameters: {'classifier': 'RandomForest', 'n_estimators': 1070, 'max_depth': 92.94571881622073}. Best is trial 28 with value: 0.7556910569105691.\u001b[0m\n",
      "\u001b[32m[I 2022-02-07 18:26:13,142]\u001b[0m Trial 55 finished with value: 0.7426590148254424 and parameters: {'classifier': 'RandomForest', 'n_estimators': 250, 'max_depth': 98.9714522254512}. Best is trial 28 with value: 0.7556910569105691.\u001b[0m\n",
      "\u001b[32m[I 2022-02-07 18:26:13,243]\u001b[0m Trial 56 finished with value: 0.640068547744301 and parameters: {'classifier': 'SVC', 'svc_c': 1.5105689685614724e-06}. Best is trial 28 with value: 0.7556910569105691.\u001b[0m\n",
      "\u001b[32m[I 2022-02-07 18:26:17,735]\u001b[0m Trial 57 finished with value: 0.744285031085605 and parameters: {'classifier': 'RandomForest', 'n_estimators': 740, 'max_depth': 89.63835927221524}. Best is trial 28 with value: 0.7556910569105691.\u001b[0m\n",
      "\u001b[32m[I 2022-02-07 18:26:24,069]\u001b[0m Trial 58 finished with value: 0.755699027578511 and parameters: {'classifier': 'RandomForest', 'n_estimators': 1030, 'max_depth': 65.9196072192128}. Best is trial 58 with value: 0.755699027578511.\u001b[0m\n",
      "\u001b[32m[I 2022-02-07 18:26:34,757]\u001b[0m Trial 59 finished with value: 0.7491790212019768 and parameters: {'classifier': 'RandomForest', 'n_estimators': 1050, 'max_depth': 69.76025600388255}. Best is trial 58 with value: 0.755699027578511.\u001b[0m\n",
      "\u001b[32m[I 2022-02-07 18:26:42,233]\u001b[0m Trial 60 finished with value: 0.744300972421489 and parameters: {'classifier': 'RandomForest', 'n_estimators': 540, 'max_depth': 58.31220483140426}. Best is trial 58 with value: 0.755699027578511.\u001b[0m\n",
      "\u001b[32m[I 2022-02-07 18:26:58,633]\u001b[0m Trial 61 finished with value: 0.7540650406504065 and parameters: {'classifier': 'RandomForest', 'n_estimators': 1190, 'max_depth': 87.05425638881388}. Best is trial 58 with value: 0.755699027578511.\u001b[0m\n",
      "\u001b[32m[I 2022-02-07 18:27:10,177]\u001b[0m Trial 62 finished with value: 0.7459269886816515 and parameters: {'classifier': 'RandomForest', 'n_estimators': 930, 'max_depth': 64.29940225234765}. Best is trial 58 with value: 0.755699027578511.\u001b[0m\n",
      "\u001b[32m[I 2022-02-07 18:27:18,539]\u001b[0m Trial 63 finished with value: 0.7524310537223019 and parameters: {'classifier': 'RandomForest', 'n_estimators': 800, 'max_depth': 76.59839099701423}. Best is trial 58 with value: 0.755699027578511.\u001b[0m\n",
      "\u001b[32m[I 2022-02-07 18:27:30,121]\u001b[0m Trial 64 finished with value: 0.7507970667941973 and parameters: {'classifier': 'RandomForest', 'n_estimators': 1920, 'max_depth': 66.8630023439376}. Best is trial 58 with value: 0.755699027578511.\u001b[0m\n",
      "\u001b[32m[I 2022-02-07 18:27:38,021]\u001b[0m Trial 65 finished with value: 0.75242308305436 and parameters: {'classifier': 'RandomForest', 'n_estimators': 1230, 'max_depth': 88.85748639626361}. Best is trial 58 with value: 0.755699027578511.\u001b[0m\n",
      "\u001b[32m[I 2022-02-07 18:27:51,485]\u001b[0m Trial 66 finished with value: 0.7540570699824646 and parameters: {'classifier': 'RandomForest', 'n_estimators': 1540, 'max_depth': 15.237633021180317}. Best is trial 58 with value: 0.755699027578511.\u001b[0m\n",
      "\u001b[32m[I 2022-02-07 18:27:58,380]\u001b[0m Trial 67 finished with value: 0.7507890961262554 and parameters: {'classifier': 'RandomForest', 'n_estimators': 990, 'max_depth': 45.49926764443089}. Best is trial 58 with value: 0.755699027578511.\u001b[0m\n",
      "\u001b[32m[I 2022-02-07 18:28:11,597]\u001b[0m Trial 68 finished with value: 0.7507970667941973 and parameters: {'classifier': 'RandomForest', 'n_estimators': 1700, 'max_depth': 34.99069039952038}. Best is trial 58 with value: 0.755699027578511.\u001b[0m\n",
      "\u001b[32m[I 2022-02-07 18:28:11,783]\u001b[0m Trial 69 finished with value: 0.640068547744301 and parameters: {'classifier': 'SVC', 'svc_c': 0.7100829654423346}. Best is trial 58 with value: 0.755699027578511.\u001b[0m\n",
      "\u001b[32m[I 2022-02-07 18:28:21,330]\u001b[0m Trial 70 finished with value: 0.7524390243902439 and parameters: {'classifier': 'RandomForest', 'n_estimators': 1090, 'max_depth': 23.009069857276764}. Best is trial 58 with value: 0.755699027578511.\u001b[0m\n",
      "\u001b[32m[I 2022-02-07 18:28:30,318]\u001b[0m Trial 71 finished with value: 0.7540490993145226 and parameters: {'classifier': 'RandomForest', 'n_estimators': 1170, 'max_depth': 95.16322619117074}. Best is trial 58 with value: 0.755699027578511.\u001b[0m\n",
      "\u001b[32m[I 2022-02-07 18:28:36,221]\u001b[0m Trial 72 finished with value: 0.7475450342738722 and parameters: {'classifier': 'RandomForest', 'n_estimators': 910, 'max_depth': 87.01971336323888}. Best is trial 58 with value: 0.755699027578511.\u001b[0m\n",
      "\u001b[32m[I 2022-02-07 18:28:43,179]\u001b[0m Trial 73 finished with value: 0.7508130081300813 and parameters: {'classifier': 'RandomForest', 'n_estimators': 1030, 'max_depth': 19.100918341448317}. Best is trial 58 with value: 0.755699027578511.\u001b[0m\n",
      "\u001b[32m[I 2022-02-07 18:28:53,093]\u001b[0m Trial 74 finished with value: 0.7508050374621393 and parameters: {'classifier': 'RandomForest', 'n_estimators': 1570, 'max_depth': 25.670857287571312}. Best is trial 58 with value: 0.755699027578511.\u001b[0m\n",
      "\u001b[32m[I 2022-02-07 18:29:01,787]\u001b[0m Trial 75 finished with value: 0.752415112386418 and parameters: {'classifier': 'RandomForest', 'n_estimators': 1430, 'max_depth': 55.44945581585398}. Best is trial 58 with value: 0.755699027578511.\u001b[0m\n",
      "\u001b[32m[I 2022-02-07 18:29:08,842]\u001b[0m Trial 76 finished with value: 0.7491710505340348 and parameters: {'classifier': 'RandomForest', 'n_estimators': 1240, 'max_depth': 74.82445994631817}. Best is trial 58 with value: 0.755699027578511.\u001b[0m\n",
      "\u001b[32m[I 2022-02-07 18:29:15,354]\u001b[0m Trial 77 finished with value: 0.7491869918699187 and parameters: {'classifier': 'RandomForest', 'n_estimators': 1120, 'max_depth': 11.17674559586518}. Best is trial 58 with value: 0.755699027578511.\u001b[0m\n",
      "\u001b[32m[I 2022-02-07 18:29:20,753]\u001b[0m Trial 78 finished with value: 0.7508050374621393 and parameters: {'classifier': 'RandomForest', 'n_estimators': 870, 'max_depth': 29.55334174341954}. Best is trial 58 with value: 0.755699027578511.\u001b[0m\n",
      "\u001b[32m[I 2022-02-07 18:29:31,939]\u001b[0m Trial 79 finished with value: 0.7508050374621393 and parameters: {'classifier': 'RandomForest', 'n_estimators': 1820, 'max_depth': 39.54536587561165}. Best is trial 58 with value: 0.755699027578511.\u001b[0m\n",
      "\u001b[32m[I 2022-02-07 18:29:32,068]\u001b[0m Trial 80 finished with value: 0.640068547744301 and parameters: {'classifier': 'SVC', 'svc_c': 5.599071602573454e-07}. Best is trial 58 with value: 0.755699027578511.\u001b[0m\n",
      "\u001b[32m[I 2022-02-07 18:29:39,242]\u001b[0m Trial 81 finished with value: 0.7491869918699187 and parameters: {'classifier': 'RandomForest', 'n_estimators': 1190, 'max_depth': 15.224771032168995}. Best is trial 58 with value: 0.755699027578511.\u001b[0m\n",
      "\u001b[32m[I 2022-02-07 18:29:45,478]\u001b[0m Trial 82 finished with value: 0.7507970667941973 and parameters: {'classifier': 'RandomForest', 'n_estimators': 1020, 'max_depth': 92.8636963761568}. Best is trial 58 with value: 0.755699027578511.\u001b[0m\n",
      "\u001b[32m[I 2022-02-07 18:29:53,882]\u001b[0m Trial 83 finished with value: 0.7508130081300813 and parameters: {'classifier': 'RandomForest', 'n_estimators': 1330, 'max_depth': 16.96316170928008}. Best is trial 58 with value: 0.755699027578511.\u001b[0m\n",
      "\u001b[32m[I 2022-02-07 18:30:00,703]\u001b[0m Trial 84 finished with value: 0.7524310537223019 and parameters: {'classifier': 'RandomForest', 'n_estimators': 970, 'max_depth': 80.47661927125519}. Best is trial 58 with value: 0.755699027578511.\u001b[0m\n",
      "\u001b[32m[I 2022-02-07 18:30:12,350]\u001b[0m Trial 85 finished with value: 0.7508050374621393 and parameters: {'classifier': 'RandomForest', 'n_estimators': 1660, 'max_depth': 67.97823796947752}. Best is trial 58 with value: 0.755699027578511.\u001b[0m\n",
      "\u001b[32m[I 2022-02-07 18:30:24,814]\u001b[0m Trial 86 finished with value: 0.7508130081300813 and parameters: {'classifier': 'RandomForest', 'n_estimators': 1730, 'max_depth': 13.44287805324186}. Best is trial 58 with value: 0.755699027578511.\u001b[0m\n",
      "\u001b[32m[I 2022-02-07 18:30:40,496]\u001b[0m Trial 87 finished with value: 0.7491710505340348 and parameters: {'classifier': 'RandomForest', 'n_estimators': 1110, 'max_depth': 21.073778406363125}. Best is trial 58 with value: 0.755699027578511.\u001b[0m\n",
      "\u001b[32m[I 2022-02-07 18:30:48,393]\u001b[0m Trial 88 finished with value: 0.7475530049418141 and parameters: {'classifier': 'RandomForest', 'n_estimators': 1290, 'max_depth': 32.577515008373815}. Best is trial 58 with value: 0.755699027578511.\u001b[0m\n",
      "\u001b[32m[I 2022-02-07 18:30:53,016]\u001b[0m Trial 89 finished with value: 0.7442770604176631 and parameters: {'classifier': 'RandomForest', 'n_estimators': 880, 'max_depth': 83.51896465032401}. Best is trial 58 with value: 0.755699027578511.\u001b[0m\n",
      "\u001b[32m[I 2022-02-07 18:30:58,743]\u001b[0m Trial 90 finished with value: 0.7524310537223019 and parameters: {'classifier': 'RandomForest', 'n_estimators': 1060, 'max_depth': 74.98223976157217}. Best is trial 58 with value: 0.755699027578511.\u001b[0m\n",
      "\u001b[32m[I 2022-02-07 18:31:07,766]\u001b[0m Trial 91 finished with value: 0.7573091025027897 and parameters: {'classifier': 'RandomForest', 'n_estimators': 1190, 'max_depth': 43.6396672368485}. Best is trial 91 with value: 0.7573091025027897.\u001b[0m\n",
      "\u001b[32m[I 2022-02-07 18:31:16,254]\u001b[0m Trial 92 finished with value: 0.7508050374621393 and parameters: {'classifier': 'RandomForest', 'n_estimators': 1140, 'max_depth': 45.23422064990386}. Best is trial 91 with value: 0.7573091025027897.\u001b[0m\n",
      "\u001b[32m[I 2022-02-07 18:31:21,786]\u001b[0m Trial 93 finished with value: 0.744285031085605 and parameters: {'classifier': 'RandomForest', 'n_estimators': 810, 'max_depth': 37.04940153358615}. Best is trial 91 with value: 0.7573091025027897.\u001b[0m\n",
      "\u001b[32m[I 2022-02-07 18:31:29,442]\u001b[0m Trial 94 finished with value: 0.7491869918699187 and parameters: {'classifier': 'RandomForest', 'n_estimators': 970, 'max_depth': 64.88389091575239}. Best is trial 91 with value: 0.7573091025027897.\u001b[0m\n",
      "\u001b[32m[I 2022-02-07 18:31:39,588]\u001b[0m Trial 95 finished with value: 0.7459269886816515 and parameters: {'classifier': 'RandomForest', 'n_estimators': 1200, 'max_depth': 99.76744416451247}. Best is trial 91 with value: 0.7573091025027897.\u001b[0m\n",
      "\u001b[32m[I 2022-02-07 18:31:50,697]\u001b[0m Trial 96 finished with value: 0.755699027578511 and parameters: {'classifier': 'RandomForest', 'n_estimators': 1270, 'max_depth': 48.71976838479665}. Best is trial 91 with value: 0.7573091025027897.\u001b[0m\n",
      "\u001b[32m[I 2022-02-07 18:32:02,943]\u001b[0m Trial 97 finished with value: 0.7475450342738722 and parameters: {'classifier': 'RandomForest', 'n_estimators': 1490, 'max_depth': 71.6202044064321}. Best is trial 91 with value: 0.7573091025027897.\u001b[0m\n",
      "\u001b[32m[I 2022-02-07 18:32:14,932]\u001b[0m Trial 98 finished with value: 0.7508050374621393 and parameters: {'classifier': 'RandomForest', 'n_estimators': 1390, 'max_depth': 49.74593347034086}. Best is trial 91 with value: 0.7573091025027897.\u001b[0m\n",
      "\u001b[32m[I 2022-02-07 18:32:15,266]\u001b[0m Trial 99 finished with value: 0.640068547744301 and parameters: {'classifier': 'SVC', 'svc_c': 824077.674395016}. Best is trial 91 with value: 0.7573091025027897.\u001b[0m\n"
     ]
    },
    {
     "name": "stdout",
     "output_type": "stream",
     "text": [
      "Accuracy: 0.7573091025027897\n",
      "Best hyperparameters: {'classifier': 'RandomForest', 'n_estimators': 1190, 'max_depth': 43.6396672368485}\n"
     ]
    }
   ],
   "source": [
    "study = optuna.create_study(direction='maximize')\n",
    "study.optimize(objective, n_trials=100)\n",
    "\n",
    "trial = study.best_trial\n",
    "\n",
    "print('Accuracy: {}'.format(trial.value))\n",
    "print(\"Best hyperparameters: {}\".format(trial.params))"
   ]
  },
  {
   "cell_type": "code",
   "execution_count": 31,
   "id": "b47bcd66",
   "metadata": {},
   "outputs": [
    {
     "data": {
      "text/plain": [
       "FrozenTrial(number=91, values=[0.7573091025027897], datetime_start=datetime.datetime(2022, 2, 7, 18, 30, 58, 745489), datetime_complete=datetime.datetime(2022, 2, 7, 18, 31, 7, 764931), params={'classifier': 'RandomForest', 'n_estimators': 1190, 'max_depth': 43.6396672368485}, distributions={'classifier': CategoricalDistribution(choices=('RandomForest', 'SVC')), 'n_estimators': IntUniformDistribution(high=2000, low=200, step=10), 'max_depth': LogUniformDistribution(high=100.0, low=10.0)}, user_attrs={}, system_attrs={}, intermediate_values={}, trial_id=91, state=TrialState.COMPLETE, value=None)"
      ]
     },
     "execution_count": 31,
     "metadata": {},
     "output_type": "execute_result"
    }
   ],
   "source": [
    "trial"
   ]
  },
  {
   "cell_type": "code",
   "execution_count": 32,
   "id": "4cc0fb9d",
   "metadata": {},
   "outputs": [
    {
     "data": {
      "text/plain": [
       "{'classifier': 'RandomForest',\n",
       " 'n_estimators': 1190,\n",
       " 'max_depth': 43.6396672368485}"
      ]
     },
     "execution_count": 32,
     "metadata": {},
     "output_type": "execute_result"
    }
   ],
   "source": [
    "study.best_params"
   ]
  },
  {
   "cell_type": "code",
   "execution_count": 33,
   "id": "2ad91922",
   "metadata": {},
   "outputs": [
    {
     "data": {
      "text/plain": [
       "RandomForestClassifier(max_depth=30, n_estimators=330)"
      ]
     },
     "execution_count": 33,
     "metadata": {},
     "output_type": "execute_result"
    }
   ],
   "source": [
    "rf=RandomForestClassifier(n_estimators=330,max_depth=30)\n",
    "rf.fit(X_train,y_train)"
   ]
  },
  {
   "cell_type": "code",
   "execution_count": 34,
   "id": "7fed75fd",
   "metadata": {},
   "outputs": [
    {
     "name": "stdout",
     "output_type": "stream",
     "text": [
      "[[94 13]\n",
      " [15 32]]\n",
      "0.8181818181818182\n",
      "              precision    recall  f1-score   support\n",
      "\n",
      "           0       0.86      0.88      0.87       107\n",
      "           1       0.71      0.68      0.70        47\n",
      "\n",
      "    accuracy                           0.82       154\n",
      "   macro avg       0.79      0.78      0.78       154\n",
      "weighted avg       0.82      0.82      0.82       154\n",
      "\n"
     ]
    }
   ],
   "source": [
    "y_pred=rf.predict(X_test)\n",
    "print(confusion_matrix(y_test,y_pred))\n",
    "print(accuracy_score(y_test,y_pred))\n",
    "print(classification_report(y_test,y_pred))"
   ]
  },
  {
   "cell_type": "code",
   "execution_count": null,
   "id": "289eb3b8",
   "metadata": {},
   "outputs": [],
   "source": []
  },
  {
   "cell_type": "code",
   "execution_count": null,
   "id": "114a0c72",
   "metadata": {},
   "outputs": [],
   "source": []
  },
  {
   "cell_type": "code",
   "execution_count": null,
   "id": "f51a938e",
   "metadata": {},
   "outputs": [],
   "source": []
  },
  {
   "cell_type": "code",
   "execution_count": null,
   "id": "d3362678",
   "metadata": {},
   "outputs": [],
   "source": []
  },
  {
   "cell_type": "code",
   "execution_count": null,
   "id": "79573254",
   "metadata": {},
   "outputs": [],
   "source": []
  }
 ],
 "metadata": {
  "kernelspec": {
   "display_name": "Python 3",
   "language": "python",
   "name": "python3"
  },
  "language_info": {
   "codemirror_mode": {
    "name": "ipython",
    "version": 3
   },
   "file_extension": ".py",
   "mimetype": "text/x-python",
   "name": "python",
   "nbconvert_exporter": "python",
   "pygments_lexer": "ipython3",
   "version": "3.8.8"
  }
 },
 "nbformat": 4,
 "nbformat_minor": 5
}
